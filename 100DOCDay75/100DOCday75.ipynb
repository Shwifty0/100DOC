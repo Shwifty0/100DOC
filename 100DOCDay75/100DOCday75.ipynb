{
 "cells": [
  {
   "cell_type": "code",
   "execution_count": 161,
   "metadata": {},
   "outputs": [],
   "source": [
    "import pandas as pd\n",
    "import matplotlib.pyplot as plt\n",
    "\n",
    "df_tesla = pd.read_csv(\"TESLA Search Trend vs Price.csv\")\n",
    "df_unemployment2019  = pd.read_csv(\"UE Benefits Search vs UE Rate 2004-19.csv\")\n",
    "df_unemployment2020  = pd.read_csv(\"UE Benefits Search vs UE Rate 2004-20.csv\")\n",
    "df_bitcoin_price = pd.read_csv(\"Daily Bitcoin Price.csv\")\n",
    "df_bitcoin_search = pd.read_csv(\"Bitcoin Search Trend.csv\")"
   ]
  },
  {
   "cell_type": "code",
   "execution_count": 162,
   "metadata": {},
   "outputs": [
    {
     "data": {
      "text/html": [
       "<div>\n",
       "<style scoped>\n",
       "    .dataframe tbody tr th:only-of-type {\n",
       "        vertical-align: middle;\n",
       "    }\n",
       "\n",
       "    .dataframe tbody tr th {\n",
       "        vertical-align: top;\n",
       "    }\n",
       "\n",
       "    .dataframe thead th {\n",
       "        text-align: right;\n",
       "    }\n",
       "</style>\n",
       "<table border=\"1\" class=\"dataframe\">\n",
       "  <thead>\n",
       "    <tr style=\"text-align: right;\">\n",
       "      <th></th>\n",
       "      <th>MONTH</th>\n",
       "      <th>TSLA_WEB_SEARCH</th>\n",
       "      <th>TSLA_USD_CLOSE</th>\n",
       "    </tr>\n",
       "  </thead>\n",
       "  <tbody>\n",
       "    <tr>\n",
       "      <th>0</th>\n",
       "      <td>2010-06-01</td>\n",
       "      <td>3</td>\n",
       "      <td>4.766</td>\n",
       "    </tr>\n",
       "    <tr>\n",
       "      <th>1</th>\n",
       "      <td>2010-07-01</td>\n",
       "      <td>3</td>\n",
       "      <td>3.988</td>\n",
       "    </tr>\n",
       "    <tr>\n",
       "      <th>2</th>\n",
       "      <td>2010-08-01</td>\n",
       "      <td>2</td>\n",
       "      <td>3.896</td>\n",
       "    </tr>\n",
       "    <tr>\n",
       "      <th>3</th>\n",
       "      <td>2010-09-01</td>\n",
       "      <td>2</td>\n",
       "      <td>4.082</td>\n",
       "    </tr>\n",
       "    <tr>\n",
       "      <th>4</th>\n",
       "      <td>2010-10-01</td>\n",
       "      <td>2</td>\n",
       "      <td>4.368</td>\n",
       "    </tr>\n",
       "  </tbody>\n",
       "</table>\n",
       "</div>"
      ],
      "text/plain": [
       "        MONTH  TSLA_WEB_SEARCH  TSLA_USD_CLOSE\n",
       "0  2010-06-01                3           4.766\n",
       "1  2010-07-01                3           3.988\n",
       "2  2010-08-01                2           3.896\n",
       "3  2010-09-01                2           4.082\n",
       "4  2010-10-01                2           4.368"
      ]
     },
     "execution_count": 162,
     "metadata": {},
     "output_type": "execute_result"
    }
   ],
   "source": [
    "df_tesla.head()"
   ]
  },
  {
   "cell_type": "code",
   "execution_count": 163,
   "metadata": {},
   "outputs": [
    {
     "name": "stdout",
     "output_type": "stream",
     "text": [
      "(124, 3)\n",
      "(2204, 3)\n",
      "(73, 2)\n",
      "(181, 3)\n",
      "(200, 3)\n",
      "(124, 3)\n"
     ]
    }
   ],
   "source": [
    "# What are the shapes of the DataFrames?\n",
    "print(df_tesla.shape)\n",
    "print(df_bitcoin_price.shape)\n",
    "print(df_bitcoin_search.shape)\n",
    "print(df_unemployment2019.shape)\n",
    "print(df_unemployment2020.shape)\n",
    "print(df_tesla.shape)"
   ]
  },
  {
   "cell_type": "code",
   "execution_count": 164,
   "metadata": {},
   "outputs": [
    {
     "name": "stdout",
     "output_type": "stream",
     "text": [
      "Column Names: Index(['DATE', 'CLOSE', 'VOLUME'], dtype='object')\n",
      "Column Names: Index(['MONTH', 'BTC_NEWS_SEARCH'], dtype='object')\n",
      "Column Names: Index(['MONTH', 'TSLA_WEB_SEARCH', 'TSLA_USD_CLOSE'], dtype='object')\n",
      "Column Names: Index(['MONTH', 'UE_BENEFITS_WEB_SEARCH', 'UNRATE'], dtype='object')\n",
      "Column Names: Index(['MONTH', 'UE_BENEFITS_WEB_SEARCH', 'UNRATE'], dtype='object')\n"
     ]
    }
   ],
   "source": [
    "# How many rows & columns do they have?\n",
    "datasets = [df_bitcoin_price, df_bitcoin_search, df_tesla, df_unemployment2019, df_unemployment2020]\n",
    "for dataset in datasets:\n",
    "    print(\"Column Names: {}\".format(dataset.columns))"
   ]
  },
  {
   "cell_type": "code",
   "execution_count": 165,
   "metadata": {},
   "outputs": [
    {
     "name": "stdout",
     "output_type": "stream",
     "text": [
      "======================\n",
      "              CLOSE        VOLUME\n",
      "count   2203.000000  2.203000e+03\n",
      "mean    4429.421245  8.043622e+09\n",
      "std     4148.150071  1.176529e+10\n",
      "min      178.102997  5.914570e+06\n",
      "25%      433.629502  6.029915e+07\n",
      "50%     3637.520020  2.018890e+09\n",
      "75%     7997.372803  1.322478e+10\n",
      "max    19497.400391  7.415677e+10\n",
      "======================\n",
      "======================\n",
      "       BTC_NEWS_SEARCH\n",
      "count        73.000000\n",
      "mean         15.013699\n",
      "std          15.146959\n",
      "min           3.000000\n",
      "25%           5.000000\n",
      "50%          14.000000\n",
      "75%          18.000000\n",
      "max         100.000000\n",
      "======================\n",
      "======================\n",
      "       TSLA_WEB_SEARCH  TSLA_USD_CLOSE\n",
      "count       124.000000      124.000000\n",
      "mean          8.725806       50.962145\n",
      "std           5.870332       65.908389\n",
      "min           2.000000        3.896000\n",
      "25%           3.750000        7.352500\n",
      "50%           8.000000       44.653000\n",
      "75%          12.000000       58.991999\n",
      "max          31.000000      498.320007\n",
      "======================\n",
      "======================\n",
      "       UE_BENEFITS_WEB_SEARCH      UNRATE\n",
      "count              181.000000  181.000000\n",
      "mean                35.110497    6.217680\n",
      "std                 20.484925    1.891859\n",
      "min                 14.000000    3.700000\n",
      "25%                 21.000000    4.700000\n",
      "50%                 26.000000    5.400000\n",
      "75%                 45.000000    7.800000\n",
      "max                100.000000   10.000000\n",
      "======================\n",
      "======================\n",
      "       UE_BENEFITS_WEB_SEARCH      UNRATE\n",
      "count              200.000000  200.000000\n",
      "mean                10.315000    6.173000\n",
      "std                 10.778061    2.128267\n",
      "min                  4.000000    3.500000\n",
      "25%                  5.000000    4.600000\n",
      "50%                  7.000000    5.400000\n",
      "75%                 12.000000    7.825000\n",
      "max                100.000000   14.700000\n",
      "======================\n"
     ]
    }
   ],
   "source": [
    "# What is the largest number in the search data column? Try using the .describe() function\n",
    "for dataset in datasets:\n",
    "    print(\"======================\\n{}\\n======================\".format(dataset.describe()))"
   ]
  },
  {
   "cell_type": "code",
   "execution_count": 166,
   "metadata": {},
   "outputs": [
    {
     "data": {
      "text/plain": [
       "MONTH              124\n",
       "TSLA_WEB_SEARCH    124\n",
       "TSLA_USD_CLOSE     124\n",
       "dtype: int64"
      ]
     },
     "execution_count": 166,
     "metadata": {},
     "output_type": "execute_result"
    }
   ],
   "source": [
    "df_tesla.count()"
   ]
  },
  {
   "cell_type": "code",
   "execution_count": 167,
   "metadata": {},
   "outputs": [
    {
     "data": {
      "text/plain": [
       "24"
      ]
     },
     "execution_count": 167,
     "metadata": {},
     "output_type": "execute_result"
    }
   ],
   "source": [
    "124 // 5"
   ]
  },
  {
   "cell_type": "code",
   "execution_count": 168,
   "metadata": {},
   "outputs": [
    {
     "name": "stdout",
     "output_type": "stream",
     "text": [
      "<class 'pandas.core.frame.DataFrame'>\n",
      "RangeIndex: 124 entries, 0 to 123\n",
      "Data columns (total 3 columns):\n",
      " #   Column           Non-Null Count  Dtype  \n",
      "---  ------           --------------  -----  \n",
      " 0   MONTH            124 non-null    object \n",
      " 1   TSLA_WEB_SEARCH  124 non-null    int64  \n",
      " 2   TSLA_USD_CLOSE   124 non-null    float64\n",
      "dtypes: float64(1), int64(1), object(1)\n",
      "memory usage: 3.0+ KB\n",
      "<class 'pandas.core.frame.DataFrame'>\n",
      "RangeIndex: 2204 entries, 0 to 2203\n",
      "Data columns (total 3 columns):\n",
      " #   Column  Non-Null Count  Dtype  \n",
      "---  ------  --------------  -----  \n",
      " 0   DATE    2204 non-null   object \n",
      " 1   CLOSE   2203 non-null   float64\n",
      " 2   VOLUME  2203 non-null   float64\n",
      "dtypes: float64(2), object(1)\n",
      "memory usage: 51.8+ KB\n",
      "<class 'pandas.core.frame.DataFrame'>\n",
      "RangeIndex: 73 entries, 0 to 72\n",
      "Data columns (total 2 columns):\n",
      " #   Column           Non-Null Count  Dtype \n",
      "---  ------           --------------  ----- \n",
      " 0   MONTH            73 non-null     object\n",
      " 1   BTC_NEWS_SEARCH  73 non-null     int64 \n",
      "dtypes: int64(1), object(1)\n",
      "memory usage: 1.3+ KB\n",
      "<class 'pandas.core.frame.DataFrame'>\n",
      "RangeIndex: 200 entries, 0 to 199\n",
      "Data columns (total 3 columns):\n",
      " #   Column                  Non-Null Count  Dtype  \n",
      "---  ------                  --------------  -----  \n",
      " 0   MONTH                   200 non-null    object \n",
      " 1   UE_BENEFITS_WEB_SEARCH  200 non-null    int64  \n",
      " 2   UNRATE                  200 non-null    float64\n",
      "dtypes: float64(1), int64(1), object(1)\n",
      "memory usage: 4.8+ KB\n"
     ]
    }
   ],
   "source": [
    "df_tesla.info()\n",
    "df_bitcoin_price.info()\n",
    "df_bitcoin_search.info()\n",
    "df_unemployment2020.info()\n"
   ]
  },
  {
   "cell_type": "code",
   "execution_count": 169,
   "metadata": {},
   "outputs": [
    {
     "name": "stdout",
     "output_type": "stream",
     "text": [
      "Missing values for Tesla?: False\n",
      "Missing values for U/E?: False\n",
      "Missing values for BTC Search?: False\n",
      "Missing values for BTC Price?: True\n"
     ]
    }
   ],
   "source": [
    "print(f'Missing values for Tesla?: {df_tesla.isna().values.any()}')\n",
    "print(f'Missing values for U/E?: {df_unemployment2020.isna().values.any()}')\n",
    "print(f'Missing values for BTC Search?: {df_bitcoin_search.isna().values.any()}')\n",
    "print(f'Missing values for BTC Price?: {df_bitcoin_price.isna().values.any()}')"
   ]
  },
  {
   "cell_type": "code",
   "execution_count": 170,
   "metadata": {},
   "outputs": [
    {
     "name": "stdout",
     "output_type": "stream",
     "text": [
      "Missing values for BTC Price?: 2\n"
     ]
    }
   ],
   "source": [
    "print(f'Missing values for BTC Price?: {df_bitcoin_price.isna().values.sum()}')"
   ]
  },
  {
   "cell_type": "code",
   "execution_count": 171,
   "metadata": {},
   "outputs": [
    {
     "data": {
      "text/html": [
       "<div>\n",
       "<style scoped>\n",
       "    .dataframe tbody tr th:only-of-type {\n",
       "        vertical-align: middle;\n",
       "    }\n",
       "\n",
       "    .dataframe tbody tr th {\n",
       "        vertical-align: top;\n",
       "    }\n",
       "\n",
       "    .dataframe thead th {\n",
       "        text-align: right;\n",
       "    }\n",
       "</style>\n",
       "<table border=\"1\" class=\"dataframe\">\n",
       "  <thead>\n",
       "    <tr style=\"text-align: right;\">\n",
       "      <th></th>\n",
       "      <th>DATE</th>\n",
       "      <th>CLOSE</th>\n",
       "      <th>VOLUME</th>\n",
       "    </tr>\n",
       "  </thead>\n",
       "  <tbody>\n",
       "    <tr>\n",
       "      <th>2148</th>\n",
       "      <td>2020-08-04</td>\n",
       "      <td>NaN</td>\n",
       "      <td>NaN</td>\n",
       "    </tr>\n",
       "  </tbody>\n",
       "</table>\n",
       "</div>"
      ],
      "text/plain": [
       "            DATE  CLOSE  VOLUME\n",
       "2148  2020-08-04    NaN     NaN"
      ]
     },
     "execution_count": 171,
     "metadata": {},
     "output_type": "execute_result"
    }
   ],
   "source": [
    "df_bitcoin_price[df_bitcoin_price.CLOSE.isna()]"
   ]
  },
  {
   "cell_type": "code",
   "execution_count": 172,
   "metadata": {},
   "outputs": [],
   "source": [
    "df_bitcoin_price = df_bitcoin_price.dropna()"
   ]
  },
  {
   "cell_type": "code",
   "execution_count": 173,
   "metadata": {},
   "outputs": [],
   "source": [
    "df_bitcoin_price = pd.to_datetime(df_bitcoin_price[\"DATE\"])"
   ]
  },
  {
   "cell_type": "code",
   "execution_count": null,
   "metadata": {},
   "outputs": [],
   "source": [
    "df_bitcoin_search = pd.to_datetime(df_bitcoin_search[\"MONTH\"])\n",
    "df_tesla = pd.to_datetime(df_tesla[\"MONTH\"])\n",
    "df_unemployment2020 = pd.to_datetime(df_unemployment2020[\"MONTH\"])"
   ]
  },
  {
   "cell_type": "code",
   "execution_count": null,
   "metadata": {},
   "outputs": [],
   "source": []
  },
  {
   "cell_type": "code",
   "execution_count": null,
   "metadata": {},
   "outputs": [],
   "source": []
  },
  {
   "cell_type": "code",
   "execution_count": null,
   "metadata": {},
   "outputs": [],
   "source": []
  },
  {
   "cell_type": "code",
   "execution_count": null,
   "metadata": {},
   "outputs": [],
   "source": []
  },
  {
   "cell_type": "code",
   "execution_count": null,
   "metadata": {},
   "outputs": [],
   "source": []
  },
  {
   "cell_type": "code",
   "execution_count": null,
   "metadata": {},
   "outputs": [],
   "source": []
  },
  {
   "cell_type": "code",
   "execution_count": null,
   "metadata": {},
   "outputs": [],
   "source": []
  },
  {
   "cell_type": "code",
   "execution_count": null,
   "metadata": {},
   "outputs": [],
   "source": []
  },
  {
   "cell_type": "code",
   "execution_count": null,
   "metadata": {},
   "outputs": [],
   "source": []
  },
  {
   "cell_type": "code",
   "execution_count": null,
   "metadata": {},
   "outputs": [],
   "source": []
  },
  {
   "cell_type": "code",
   "execution_count": null,
   "metadata": {},
   "outputs": [],
   "source": []
  },
  {
   "cell_type": "code",
   "execution_count": null,
   "metadata": {},
   "outputs": [],
   "source": []
  }
 ],
 "metadata": {
  "kernelspec": {
   "display_name": "flask-venv",
   "language": "python",
   "name": "python3"
  },
  "language_info": {
   "codemirror_mode": {
    "name": "ipython",
    "version": 3
   },
   "file_extension": ".py",
   "mimetype": "text/x-python",
   "name": "python",
   "nbconvert_exporter": "python",
   "pygments_lexer": "ipython3",
   "version": "3.11.4"
  }
 },
 "nbformat": 4,
 "nbformat_minor": 2
}
