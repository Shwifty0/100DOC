{
  "cells": [
    {
      "cell_type": "code",
      "execution_count": 16,
      "metadata": {
        "id": "sCquUaTCPyd3"
      },
      "outputs": [
        {
          "name": "stderr",
          "output_type": "stream",
          "text": [
            "C:\\Users\\ozair\\AppData\\Local\\Temp\\ipykernel_34672\\4055718981.py:1: DeprecationWarning: \n",
            "Pyarrow will become a required dependency of pandas in the next major release of pandas (pandas 3.0),\n",
            "(to allow more performant data types, such as the Arrow string type, and better interoperability with other libraries)\n",
            "but was not found to be installed on your system.\n",
            "If this would cause problems for you,\n",
            "please provide us feedback at https://github.com/pandas-dev/pandas/issues/54466\n",
            "        \n",
            "  import pandas as pd\n"
          ]
        }
      ],
      "source": [
        "import pandas as pd\n",
        "dataset = pd.read_csv(\"salaries_by_college_major.csv\")"
      ]
    },
    {
      "cell_type": "code",
      "execution_count": 4,
      "metadata": {
        "colab": {
          "base_uri": "https://localhost:8080/",
          "height": 206
        },
        "id": "uVhWTp9RQnq5",
        "outputId": "bff3d822-dd65-49ca-b4f2-3db4a9c0369b"
      },
      "outputs": [
        {
          "data": {
            "text/html": [
              "<div>\n",
              "<style scoped>\n",
              "    .dataframe tbody tr th:only-of-type {\n",
              "        vertical-align: middle;\n",
              "    }\n",
              "\n",
              "    .dataframe tbody tr th {\n",
              "        vertical-align: top;\n",
              "    }\n",
              "\n",
              "    .dataframe thead th {\n",
              "        text-align: right;\n",
              "    }\n",
              "</style>\n",
              "<table border=\"1\" class=\"dataframe\">\n",
              "  <thead>\n",
              "    <tr style=\"text-align: right;\">\n",
              "      <th></th>\n",
              "      <th>Undergraduate Major</th>\n",
              "      <th>Starting Median Salary</th>\n",
              "      <th>Mid-Career Median Salary</th>\n",
              "      <th>Mid-Career 10th Percentile Salary</th>\n",
              "      <th>Mid-Career 90th Percentile Salary</th>\n",
              "      <th>Group</th>\n",
              "    </tr>\n",
              "  </thead>\n",
              "  <tbody>\n",
              "    <tr>\n",
              "      <th>0</th>\n",
              "      <td>Accounting</td>\n",
              "      <td>46000.0</td>\n",
              "      <td>77100.0</td>\n",
              "      <td>42200.0</td>\n",
              "      <td>152000.0</td>\n",
              "      <td>Business</td>\n",
              "    </tr>\n",
              "    <tr>\n",
              "      <th>1</th>\n",
              "      <td>Aerospace Engineering</td>\n",
              "      <td>57700.0</td>\n",
              "      <td>101000.0</td>\n",
              "      <td>64300.0</td>\n",
              "      <td>161000.0</td>\n",
              "      <td>STEM</td>\n",
              "    </tr>\n",
              "    <tr>\n",
              "      <th>2</th>\n",
              "      <td>Agriculture</td>\n",
              "      <td>42600.0</td>\n",
              "      <td>71900.0</td>\n",
              "      <td>36300.0</td>\n",
              "      <td>150000.0</td>\n",
              "      <td>Business</td>\n",
              "    </tr>\n",
              "    <tr>\n",
              "      <th>3</th>\n",
              "      <td>Anthropology</td>\n",
              "      <td>36800.0</td>\n",
              "      <td>61500.0</td>\n",
              "      <td>33800.0</td>\n",
              "      <td>138000.0</td>\n",
              "      <td>HASS</td>\n",
              "    </tr>\n",
              "    <tr>\n",
              "      <th>4</th>\n",
              "      <td>Architecture</td>\n",
              "      <td>41600.0</td>\n",
              "      <td>76800.0</td>\n",
              "      <td>50600.0</td>\n",
              "      <td>136000.0</td>\n",
              "      <td>Business</td>\n",
              "    </tr>\n",
              "  </tbody>\n",
              "</table>\n",
              "</div>"
            ],
            "text/plain": [
              "     Undergraduate Major  Starting Median Salary  Mid-Career Median Salary  \\\n",
              "0             Accounting                 46000.0                   77100.0   \n",
              "1  Aerospace Engineering                 57700.0                  101000.0   \n",
              "2            Agriculture                 42600.0                   71900.0   \n",
              "3           Anthropology                 36800.0                   61500.0   \n",
              "4           Architecture                 41600.0                   76800.0   \n",
              "\n",
              "   Mid-Career 10th Percentile Salary  Mid-Career 90th Percentile Salary  \\\n",
              "0                            42200.0                           152000.0   \n",
              "1                            64300.0                           161000.0   \n",
              "2                            36300.0                           150000.0   \n",
              "3                            33800.0                           138000.0   \n",
              "4                            50600.0                           136000.0   \n",
              "\n",
              "      Group  \n",
              "0  Business  \n",
              "1      STEM  \n",
              "2  Business  \n",
              "3      HASS  \n",
              "4  Business  "
            ]
          },
          "execution_count": 4,
          "metadata": {},
          "output_type": "execute_result"
        }
      ],
      "source": [
        "dataset.head()"
      ]
    },
    {
      "cell_type": "code",
      "execution_count": 5,
      "metadata": {
        "colab": {
          "base_uri": "https://localhost:8080/"
        },
        "id": "mW_SES4KQxHU",
        "outputId": "77e7708b-aa9c-4244-f852-8c65c1df6507"
      },
      "outputs": [
        {
          "name": "stdout",
          "output_type": "stream",
          "text": [
            "Rows: 51\n",
            "Columns: 6\n",
            "Column names: ['Undergraduate Major', 'Starting Median Salary', 'Mid-Career Median Salary', 'Mid-Career 10th Percentile Salary', 'Mid-Career 90th Percentile Salary', 'Group']\n"
          ]
        }
      ],
      "source": [
        "print(f\"Rows: {dataset.shape[0]}\")\n",
        "print(f\"Columns: {dataset.shape[1]}\")\n",
        "print(f\"Column names: {dataset.columns.tolist()}\")"
      ]
    },
    {
      "cell_type": "code",
      "execution_count": 6,
      "metadata": {
        "colab": {
          "base_uri": "https://localhost:8080/",
          "height": 206
        },
        "id": "D1EsmzGnQ1Ny",
        "outputId": "9f25b39a-f8f0-42c3-9e67-576f27305072"
      },
      "outputs": [
        {
          "data": {
            "text/html": [
              "<div>\n",
              "<style scoped>\n",
              "    .dataframe tbody tr th:only-of-type {\n",
              "        vertical-align: middle;\n",
              "    }\n",
              "\n",
              "    .dataframe tbody tr th {\n",
              "        vertical-align: top;\n",
              "    }\n",
              "\n",
              "    .dataframe thead th {\n",
              "        text-align: right;\n",
              "    }\n",
              "</style>\n",
              "<table border=\"1\" class=\"dataframe\">\n",
              "  <thead>\n",
              "    <tr style=\"text-align: right;\">\n",
              "      <th></th>\n",
              "      <th>Undergraduate Major</th>\n",
              "      <th>Starting Median Salary</th>\n",
              "      <th>Mid-Career Median Salary</th>\n",
              "      <th>Mid-Career 10th Percentile Salary</th>\n",
              "      <th>Mid-Career 90th Percentile Salary</th>\n",
              "      <th>Group</th>\n",
              "    </tr>\n",
              "  </thead>\n",
              "  <tbody>\n",
              "    <tr>\n",
              "      <th>46</th>\n",
              "      <td>Psychology</td>\n",
              "      <td>35900.0</td>\n",
              "      <td>60400.0</td>\n",
              "      <td>31600.0</td>\n",
              "      <td>127000.0</td>\n",
              "      <td>HASS</td>\n",
              "    </tr>\n",
              "    <tr>\n",
              "      <th>47</th>\n",
              "      <td>Religion</td>\n",
              "      <td>34100.0</td>\n",
              "      <td>52000.0</td>\n",
              "      <td>29700.0</td>\n",
              "      <td>96400.0</td>\n",
              "      <td>HASS</td>\n",
              "    </tr>\n",
              "    <tr>\n",
              "      <th>48</th>\n",
              "      <td>Sociology</td>\n",
              "      <td>36500.0</td>\n",
              "      <td>58200.0</td>\n",
              "      <td>30700.0</td>\n",
              "      <td>118000.0</td>\n",
              "      <td>HASS</td>\n",
              "    </tr>\n",
              "    <tr>\n",
              "      <th>49</th>\n",
              "      <td>Spanish</td>\n",
              "      <td>34000.0</td>\n",
              "      <td>53100.0</td>\n",
              "      <td>31000.0</td>\n",
              "      <td>96400.0</td>\n",
              "      <td>HASS</td>\n",
              "    </tr>\n",
              "    <tr>\n",
              "      <th>50</th>\n",
              "      <td>Source: PayScale Inc.</td>\n",
              "      <td>NaN</td>\n",
              "      <td>NaN</td>\n",
              "      <td>NaN</td>\n",
              "      <td>NaN</td>\n",
              "      <td>NaN</td>\n",
              "    </tr>\n",
              "  </tbody>\n",
              "</table>\n",
              "</div>"
            ],
            "text/plain": [
              "      Undergraduate Major  Starting Median Salary  Mid-Career Median Salary  \\\n",
              "46             Psychology                 35900.0                   60400.0   \n",
              "47               Religion                 34100.0                   52000.0   \n",
              "48              Sociology                 36500.0                   58200.0   \n",
              "49                Spanish                 34000.0                   53100.0   \n",
              "50  Source: PayScale Inc.                     NaN                       NaN   \n",
              "\n",
              "    Mid-Career 10th Percentile Salary  Mid-Career 90th Percentile Salary Group  \n",
              "46                            31600.0                           127000.0  HASS  \n",
              "47                            29700.0                            96400.0  HASS  \n",
              "48                            30700.0                           118000.0  HASS  \n",
              "49                            31000.0                            96400.0  HASS  \n",
              "50                                NaN                                NaN   NaN  "
            ]
          },
          "execution_count": 6,
          "metadata": {},
          "output_type": "execute_result"
        }
      ],
      "source": [
        "# Check for missing values:\n",
        "dataset.tail()"
      ]
    },
    {
      "cell_type": "code",
      "execution_count": 7,
      "metadata": {
        "colab": {
          "base_uri": "https://localhost:8080/",
          "height": 206
        },
        "id": "_CerA-yY_jkx",
        "outputId": "492b44c9-9ed0-475a-94d1-100d573b4a27"
      },
      "outputs": [
        {
          "data": {
            "text/html": [
              "<div>\n",
              "<style scoped>\n",
              "    .dataframe tbody tr th:only-of-type {\n",
              "        vertical-align: middle;\n",
              "    }\n",
              "\n",
              "    .dataframe tbody tr th {\n",
              "        vertical-align: top;\n",
              "    }\n",
              "\n",
              "    .dataframe thead th {\n",
              "        text-align: right;\n",
              "    }\n",
              "</style>\n",
              "<table border=\"1\" class=\"dataframe\">\n",
              "  <thead>\n",
              "    <tr style=\"text-align: right;\">\n",
              "      <th></th>\n",
              "      <th>Undergraduate Major</th>\n",
              "      <th>Starting Median Salary</th>\n",
              "      <th>Mid-Career Median Salary</th>\n",
              "      <th>Mid-Career 10th Percentile Salary</th>\n",
              "      <th>Mid-Career 90th Percentile Salary</th>\n",
              "      <th>Group</th>\n",
              "    </tr>\n",
              "  </thead>\n",
              "  <tbody>\n",
              "    <tr>\n",
              "      <th>45</th>\n",
              "      <td>Political Science</td>\n",
              "      <td>40800.0</td>\n",
              "      <td>78200.0</td>\n",
              "      <td>41200.0</td>\n",
              "      <td>168000.0</td>\n",
              "      <td>HASS</td>\n",
              "    </tr>\n",
              "    <tr>\n",
              "      <th>46</th>\n",
              "      <td>Psychology</td>\n",
              "      <td>35900.0</td>\n",
              "      <td>60400.0</td>\n",
              "      <td>31600.0</td>\n",
              "      <td>127000.0</td>\n",
              "      <td>HASS</td>\n",
              "    </tr>\n",
              "    <tr>\n",
              "      <th>47</th>\n",
              "      <td>Religion</td>\n",
              "      <td>34100.0</td>\n",
              "      <td>52000.0</td>\n",
              "      <td>29700.0</td>\n",
              "      <td>96400.0</td>\n",
              "      <td>HASS</td>\n",
              "    </tr>\n",
              "    <tr>\n",
              "      <th>48</th>\n",
              "      <td>Sociology</td>\n",
              "      <td>36500.0</td>\n",
              "      <td>58200.0</td>\n",
              "      <td>30700.0</td>\n",
              "      <td>118000.0</td>\n",
              "      <td>HASS</td>\n",
              "    </tr>\n",
              "    <tr>\n",
              "      <th>49</th>\n",
              "      <td>Spanish</td>\n",
              "      <td>34000.0</td>\n",
              "      <td>53100.0</td>\n",
              "      <td>31000.0</td>\n",
              "      <td>96400.0</td>\n",
              "      <td>HASS</td>\n",
              "    </tr>\n",
              "  </tbody>\n",
              "</table>\n",
              "</div>"
            ],
            "text/plain": [
              "   Undergraduate Major  Starting Median Salary  Mid-Career Median Salary  \\\n",
              "45   Political Science                 40800.0                   78200.0   \n",
              "46          Psychology                 35900.0                   60400.0   \n",
              "47            Religion                 34100.0                   52000.0   \n",
              "48           Sociology                 36500.0                   58200.0   \n",
              "49             Spanish                 34000.0                   53100.0   \n",
              "\n",
              "    Mid-Career 10th Percentile Salary  Mid-Career 90th Percentile Salary Group  \n",
              "45                            41200.0                           168000.0  HASS  \n",
              "46                            31600.0                           127000.0  HASS  \n",
              "47                            29700.0                            96400.0  HASS  \n",
              "48                            30700.0                           118000.0  HASS  \n",
              "49                            31000.0                            96400.0  HASS  "
            ]
          },
          "execution_count": 7,
          "metadata": {},
          "output_type": "execute_result"
        }
      ],
      "source": [
        "clean_df = dataset.dropna()\n",
        "clean_df.tail()"
      ]
    },
    {
      "cell_type": "code",
      "execution_count": 8,
      "metadata": {
        "colab": {
          "base_uri": "https://localhost:8080/"
        },
        "id": "nJ6gXNBw_9HM",
        "outputId": "4af98e48-5363-402b-f4cd-865c624bba41"
      },
      "outputs": [
        {
          "data": {
            "text/plain": [
              "Undergraduate Major                  Physician Assistant\n",
              "Starting Median Salary                           74300.0\n",
              "Mid-Career Median Salary                         91700.0\n",
              "Mid-Career 10th Percentile Salary                66400.0\n",
              "Mid-Career 90th Percentile Salary               124000.0\n",
              "Group                                               STEM\n",
              "Name: 43, dtype: object"
            ]
          },
          "execution_count": 8,
          "metadata": {},
          "output_type": "execute_result"
        }
      ],
      "source": [
        "clean_df.loc[43]"
      ]
    },
    {
      "cell_type": "code",
      "execution_count": 9,
      "metadata": {
        "colab": {
          "base_uri": "https://localhost:8080/"
        },
        "id": "-O93ib3JLQdu",
        "outputId": "f76e3313-634d-4e58-823e-f01bc277ddc1"
      },
      "outputs": [
        {
          "data": {
            "text/plain": [
              "Undergraduate Major                  Chemical Engineering\n",
              "Starting Median Salary                            63200.0\n",
              "Mid-Career Median Salary                         107000.0\n",
              "Mid-Career 10th Percentile Salary                 71900.0\n",
              "Mid-Career 90th Percentile Salary                194000.0\n",
              "Group                                                STEM\n",
              "Name: 8, dtype: object"
            ]
          },
          "execution_count": 9,
          "metadata": {},
          "output_type": "execute_result"
        }
      ],
      "source": [
        "# Highest Mid Career Salary\n",
        "clean_df['Mid-Career Median Salary'].idxmax()\n",
        "clean_df.loc[8]"
      ]
    },
    {
      "cell_type": "code",
      "execution_count": 10,
      "metadata": {
        "colab": {
          "base_uri": "https://localhost:8080/"
        },
        "id": "NzrysJUL_cPf",
        "outputId": "3e641d27-4f24-44b5-8096-ac8dc507977f"
      },
      "outputs": [
        {
          "data": {
            "text/plain": [
              "Undergraduate Major                  Spanish\n",
              "Starting Median Salary               34000.0\n",
              "Mid-Career Median Salary             53100.0\n",
              "Mid-Career 10th Percentile Salary    31000.0\n",
              "Mid-Career 90th Percentile Salary    96400.0\n",
              "Group                                   HASS\n",
              "Name: 49, dtype: object"
            ]
          },
          "execution_count": 10,
          "metadata": {},
          "output_type": "execute_result"
        }
      ],
      "source": [
        "# Lowest Starting Salary\n",
        "clean_df[\"Starting Median Salary\"].idxmin()\n",
        "clean_df.loc[49]"
      ]
    },
    {
      "cell_type": "code",
      "execution_count": 11,
      "metadata": {
        "colab": {
          "base_uri": "https://localhost:8080/"
        },
        "id": "wdobOwdaAElY",
        "outputId": "8ab5f9df-6a41-4306-dddd-76ccfaa24aab"
      },
      "outputs": [
        {
          "data": {
            "text/plain": [
              "Undergraduate Major                  Education\n",
              "Starting Median Salary                 34900.0\n",
              "Mid-Career Median Salary               52000.0\n",
              "Mid-Career 10th Percentile Salary      29300.0\n",
              "Mid-Career 90th Percentile Salary     102000.0\n",
              "Group                                     HASS\n",
              "Name: 18, dtype: object"
            ]
          },
          "execution_count": 11,
          "metadata": {},
          "output_type": "execute_result"
        }
      ],
      "source": [
        "clean_df['Mid-Career Median Salary'].idxmin()\n",
        "clean_df.loc[18]"
      ]
    },
    {
      "cell_type": "code",
      "execution_count": 12,
      "metadata": {
        "id": "ekE-SfkDAnq4"
      },
      "outputs": [],
      "source": [
        "spread = clean_df[\"Mid-Career 90th Percentile Salary\"] - clean_df[\"Mid-Career 10th Percentile Salary\"]\n",
        "clean_df.insert(1, column=\"Salary Spread\", value=spread)"
      ]
    },
    {
      "cell_type": "code",
      "execution_count": 13,
      "metadata": {
        "colab": {
          "base_uri": "https://localhost:8080/",
          "height": 206
        },
        "id": "JozSH3s9CEBg",
        "outputId": "dd3b08dd-9d5e-48b0-cd59-e969ee6d3b2b"
      },
      "outputs": [
        {
          "data": {
            "text/html": [
              "<div>\n",
              "<style scoped>\n",
              "    .dataframe tbody tr th:only-of-type {\n",
              "        vertical-align: middle;\n",
              "    }\n",
              "\n",
              "    .dataframe tbody tr th {\n",
              "        vertical-align: top;\n",
              "    }\n",
              "\n",
              "    .dataframe thead th {\n",
              "        text-align: right;\n",
              "    }\n",
              "</style>\n",
              "<table border=\"1\" class=\"dataframe\">\n",
              "  <thead>\n",
              "    <tr style=\"text-align: right;\">\n",
              "      <th></th>\n",
              "      <th>Undergraduate Major</th>\n",
              "      <th>Salary Spread</th>\n",
              "      <th>Starting Median Salary</th>\n",
              "      <th>Mid-Career Median Salary</th>\n",
              "      <th>Mid-Career 10th Percentile Salary</th>\n",
              "      <th>Mid-Career 90th Percentile Salary</th>\n",
              "      <th>Group</th>\n",
              "    </tr>\n",
              "  </thead>\n",
              "  <tbody>\n",
              "    <tr>\n",
              "      <th>0</th>\n",
              "      <td>Accounting</td>\n",
              "      <td>109800.0</td>\n",
              "      <td>46000.0</td>\n",
              "      <td>77100.0</td>\n",
              "      <td>42200.0</td>\n",
              "      <td>152000.0</td>\n",
              "      <td>Business</td>\n",
              "    </tr>\n",
              "    <tr>\n",
              "      <th>1</th>\n",
              "      <td>Aerospace Engineering</td>\n",
              "      <td>96700.0</td>\n",
              "      <td>57700.0</td>\n",
              "      <td>101000.0</td>\n",
              "      <td>64300.0</td>\n",
              "      <td>161000.0</td>\n",
              "      <td>STEM</td>\n",
              "    </tr>\n",
              "    <tr>\n",
              "      <th>2</th>\n",
              "      <td>Agriculture</td>\n",
              "      <td>113700.0</td>\n",
              "      <td>42600.0</td>\n",
              "      <td>71900.0</td>\n",
              "      <td>36300.0</td>\n",
              "      <td>150000.0</td>\n",
              "      <td>Business</td>\n",
              "    </tr>\n",
              "    <tr>\n",
              "      <th>3</th>\n",
              "      <td>Anthropology</td>\n",
              "      <td>104200.0</td>\n",
              "      <td>36800.0</td>\n",
              "      <td>61500.0</td>\n",
              "      <td>33800.0</td>\n",
              "      <td>138000.0</td>\n",
              "      <td>HASS</td>\n",
              "    </tr>\n",
              "    <tr>\n",
              "      <th>4</th>\n",
              "      <td>Architecture</td>\n",
              "      <td>85400.0</td>\n",
              "      <td>41600.0</td>\n",
              "      <td>76800.0</td>\n",
              "      <td>50600.0</td>\n",
              "      <td>136000.0</td>\n",
              "      <td>Business</td>\n",
              "    </tr>\n",
              "  </tbody>\n",
              "</table>\n",
              "</div>"
            ],
            "text/plain": [
              "     Undergraduate Major  Salary Spread  Starting Median Salary  \\\n",
              "0             Accounting       109800.0                 46000.0   \n",
              "1  Aerospace Engineering        96700.0                 57700.0   \n",
              "2            Agriculture       113700.0                 42600.0   \n",
              "3           Anthropology       104200.0                 36800.0   \n",
              "4           Architecture        85400.0                 41600.0   \n",
              "\n",
              "   Mid-Career Median Salary  Mid-Career 10th Percentile Salary  \\\n",
              "0                   77100.0                            42200.0   \n",
              "1                  101000.0                            64300.0   \n",
              "2                   71900.0                            36300.0   \n",
              "3                   61500.0                            33800.0   \n",
              "4                   76800.0                            50600.0   \n",
              "\n",
              "   Mid-Career 90th Percentile Salary     Group  \n",
              "0                           152000.0  Business  \n",
              "1                           161000.0      STEM  \n",
              "2                           150000.0  Business  \n",
              "3                           138000.0      HASS  \n",
              "4                           136000.0  Business  "
            ]
          },
          "execution_count": 13,
          "metadata": {},
          "output_type": "execute_result"
        }
      ],
      "source": [
        "clean_df.head()"
      ]
    },
    {
      "cell_type": "code",
      "execution_count": 14,
      "metadata": {
        "colab": {
          "base_uri": "https://localhost:8080/"
        },
        "id": "LZtc8rzqx5B7",
        "outputId": "d5e64d9e-5b9c-45e3-d1e2-5b38e639d7d8"
      },
      "outputs": [
        {
          "data": {
            "text/plain": [
              "99358.0"
            ]
          },
          "execution_count": 14,
          "metadata": {},
          "output_type": "execute_result"
        }
      ],
      "source": [
        "clean_df[\"Salary Spread\"].mean()"
      ]
    },
    {
      "cell_type": "code",
      "execution_count": 15,
      "metadata": {
        "colab": {
          "base_uri": "https://localhost:8080/",
          "height": 206
        },
        "id": "kPnDSvwF5ydY",
        "outputId": "a8c9182f-2924-4d0e-df39-c966f1c92fa7"
      },
      "outputs": [
        {
          "data": {
            "text/html": [
              "<div>\n",
              "<style scoped>\n",
              "    .dataframe tbody tr th:only-of-type {\n",
              "        vertical-align: middle;\n",
              "    }\n",
              "\n",
              "    .dataframe tbody tr th {\n",
              "        vertical-align: top;\n",
              "    }\n",
              "\n",
              "    .dataframe thead th {\n",
              "        text-align: right;\n",
              "    }\n",
              "</style>\n",
              "<table border=\"1\" class=\"dataframe\">\n",
              "  <thead>\n",
              "    <tr style=\"text-align: right;\">\n",
              "      <th></th>\n",
              "      <th>Undergraduate Major</th>\n",
              "      <th>Salary Spread</th>\n",
              "    </tr>\n",
              "  </thead>\n",
              "  <tbody>\n",
              "    <tr>\n",
              "      <th>40</th>\n",
              "      <td>Nursing</td>\n",
              "      <td>50700.0</td>\n",
              "    </tr>\n",
              "    <tr>\n",
              "      <th>43</th>\n",
              "      <td>Physician Assistant</td>\n",
              "      <td>57600.0</td>\n",
              "    </tr>\n",
              "    <tr>\n",
              "      <th>41</th>\n",
              "      <td>Nutrition</td>\n",
              "      <td>65300.0</td>\n",
              "    </tr>\n",
              "    <tr>\n",
              "      <th>49</th>\n",
              "      <td>Spanish</td>\n",
              "      <td>65400.0</td>\n",
              "    </tr>\n",
              "    <tr>\n",
              "      <th>27</th>\n",
              "      <td>Health Care Administration</td>\n",
              "      <td>66400.0</td>\n",
              "    </tr>\n",
              "  </tbody>\n",
              "</table>\n",
              "</div>"
            ],
            "text/plain": [
              "           Undergraduate Major  Salary Spread\n",
              "40                     Nursing        50700.0\n",
              "43         Physician Assistant        57600.0\n",
              "41                   Nutrition        65300.0\n",
              "49                     Spanish        65400.0\n",
              "27  Health Care Administration        66400.0"
            ]
          },
          "execution_count": 15,
          "metadata": {},
          "output_type": "execute_result"
        }
      ],
      "source": [
        "low_risk = clean_df.sort_values(\"Salary Spread\")\n",
        "low_risk[[\"Undergraduate Major\", \"Salary Spread\"]].head()"
      ]
    },
    {
      "cell_type": "code",
      "execution_count": 16,
      "metadata": {
        "colab": {
          "base_uri": "https://localhost:8080/",
          "height": 206
        },
        "id": "tIJv39ooaO8k",
        "outputId": "e3fb16aa-c5d5-48d1-fdff-7c725342c33d"
      },
      "outputs": [
        {
          "data": {
            "text/html": [
              "<div>\n",
              "<style scoped>\n",
              "    .dataframe tbody tr th:only-of-type {\n",
              "        vertical-align: middle;\n",
              "    }\n",
              "\n",
              "    .dataframe tbody tr th {\n",
              "        vertical-align: top;\n",
              "    }\n",
              "\n",
              "    .dataframe thead th {\n",
              "        text-align: right;\n",
              "    }\n",
              "</style>\n",
              "<table border=\"1\" class=\"dataframe\">\n",
              "  <thead>\n",
              "    <tr style=\"text-align: right;\">\n",
              "      <th></th>\n",
              "      <th>Undergraduate Major</th>\n",
              "      <th>Mid-Career Median Salary</th>\n",
              "    </tr>\n",
              "  </thead>\n",
              "  <tbody>\n",
              "    <tr>\n",
              "      <th>8</th>\n",
              "      <td>Chemical Engineering</td>\n",
              "      <td>107000.0</td>\n",
              "    </tr>\n",
              "    <tr>\n",
              "      <th>12</th>\n",
              "      <td>Computer Engineering</td>\n",
              "      <td>105000.0</td>\n",
              "    </tr>\n",
              "    <tr>\n",
              "      <th>19</th>\n",
              "      <td>Electrical Engineering</td>\n",
              "      <td>103000.0</td>\n",
              "    </tr>\n",
              "    <tr>\n",
              "      <th>1</th>\n",
              "      <td>Aerospace Engineering</td>\n",
              "      <td>101000.0</td>\n",
              "    </tr>\n",
              "    <tr>\n",
              "      <th>17</th>\n",
              "      <td>Economics</td>\n",
              "      <td>98600.0</td>\n",
              "    </tr>\n",
              "  </tbody>\n",
              "</table>\n",
              "</div>"
            ],
            "text/plain": [
              "       Undergraduate Major  Mid-Career Median Salary\n",
              "8     Chemical Engineering                  107000.0\n",
              "12    Computer Engineering                  105000.0\n",
              "19  Electrical Engineering                  103000.0\n",
              "1    Aerospace Engineering                  101000.0\n",
              "17               Economics                   98600.0"
            ]
          },
          "execution_count": 16,
          "metadata": {},
          "output_type": "execute_result"
        }
      ],
      "source": [
        "highest_potential = clean_df.sort_values(\"Mid-Career Median Salary\", ascending=False)\n",
        "highest_potential[[\"Undergraduate Major\",\"Mid-Career Median Salary\"]].head()"
      ]
    },
    {
      "cell_type": "code",
      "execution_count": 17,
      "metadata": {
        "colab": {
          "base_uri": "https://localhost:8080/",
          "height": 175
        },
        "id": "BkQaWvXFa3yG",
        "outputId": "ff3d866d-ab15-43d7-9cac-573a39cd7545"
      },
      "outputs": [
        {
          "data": {
            "text/html": [
              "<div>\n",
              "<style scoped>\n",
              "    .dataframe tbody tr th:only-of-type {\n",
              "        vertical-align: middle;\n",
              "    }\n",
              "\n",
              "    .dataframe tbody tr th {\n",
              "        vertical-align: top;\n",
              "    }\n",
              "\n",
              "    .dataframe thead th {\n",
              "        text-align: right;\n",
              "    }\n",
              "</style>\n",
              "<table border=\"1\" class=\"dataframe\">\n",
              "  <thead>\n",
              "    <tr style=\"text-align: right;\">\n",
              "      <th></th>\n",
              "      <th>Undergraduate Major</th>\n",
              "      <th>Salary Spread</th>\n",
              "      <th>Starting Median Salary</th>\n",
              "      <th>Mid-Career Median Salary</th>\n",
              "      <th>Mid-Career 10th Percentile Salary</th>\n",
              "      <th>Mid-Career 90th Percentile Salary</th>\n",
              "    </tr>\n",
              "    <tr>\n",
              "      <th>Group</th>\n",
              "      <th></th>\n",
              "      <th></th>\n",
              "      <th></th>\n",
              "      <th></th>\n",
              "      <th></th>\n",
              "      <th></th>\n",
              "    </tr>\n",
              "  </thead>\n",
              "  <tbody>\n",
              "    <tr>\n",
              "      <th>Business</th>\n",
              "      <td>12</td>\n",
              "      <td>12</td>\n",
              "      <td>12</td>\n",
              "      <td>12</td>\n",
              "      <td>12</td>\n",
              "      <td>12</td>\n",
              "    </tr>\n",
              "    <tr>\n",
              "      <th>HASS</th>\n",
              "      <td>22</td>\n",
              "      <td>22</td>\n",
              "      <td>22</td>\n",
              "      <td>22</td>\n",
              "      <td>22</td>\n",
              "      <td>22</td>\n",
              "    </tr>\n",
              "    <tr>\n",
              "      <th>STEM</th>\n",
              "      <td>16</td>\n",
              "      <td>16</td>\n",
              "      <td>16</td>\n",
              "      <td>16</td>\n",
              "      <td>16</td>\n",
              "      <td>16</td>\n",
              "    </tr>\n",
              "  </tbody>\n",
              "</table>\n",
              "</div>"
            ],
            "text/plain": [
              "          Undergraduate Major  Salary Spread  Starting Median Salary  \\\n",
              "Group                                                                  \n",
              "Business                   12             12                      12   \n",
              "HASS                       22             22                      22   \n",
              "STEM                       16             16                      16   \n",
              "\n",
              "          Mid-Career Median Salary  Mid-Career 10th Percentile Salary  \\\n",
              "Group                                                                   \n",
              "Business                        12                                 12   \n",
              "HASS                            22                                 22   \n",
              "STEM                            16                                 16   \n",
              "\n",
              "          Mid-Career 90th Percentile Salary  \n",
              "Group                                        \n",
              "Business                                 12  \n",
              "HASS                                     22  \n",
              "STEM                                     16  "
            ]
          },
          "execution_count": 17,
          "metadata": {},
          "output_type": "execute_result"
        }
      ],
      "source": [
        "clean_df.groupby('Group').count()"
      ]
    },
    {
      "cell_type": "code",
      "execution_count": 62,
      "metadata": {
        "colab": {
          "base_uri": "https://localhost:8080/",
          "height": 703
        },
        "id": "v9fpFXcZdYBJ",
        "outputId": "51b0aa9e-83fa-4c5c-aff7-e8c2b4c06412"
      },
      "outputs": [
        {
          "name": "stdout",
          "output_type": "stream",
          "text": [
            "Page: 1\n",
            "Page: 2\n",
            "Page: 3\n",
            "Page: 4\n",
            "Page: 5\n",
            "Page: 6\n",
            "Page: 7\n",
            "Page: 8\n",
            "Page: 9\n",
            "Page: 10\n",
            "Page: 11\n",
            "Page: 12\n",
            "Page: 13\n",
            "Page: 14\n",
            "Page: 15\n",
            "Page: 16\n",
            "Page: 17\n",
            "Page: 18\n",
            "Page: 19\n",
            "Page: 20\n",
            "Page: 21\n",
            "Page: 22\n",
            "Page: 23\n",
            "Page: 24\n",
            "Page: 25\n",
            "Page: 26\n",
            "Page: 27\n",
            "Page: 28\n",
            "Page: 29\n",
            "Page: 30\n",
            "Page: 31\n",
            "Page: 32\n",
            "Done\n",
            "{'1': {'Rank': '1', 'Major': 'Petroleum Engineering', 'Degree_Type': 'Bachelors', 'Early_Career_Pay': '$97,500', 'Mid_Career_Pay': '$212,500', 'High_Meaning': '61%'}, '2': {'Rank': '2', 'Major': 'Operations Research & Industrial Engineering', 'Degree_Type': 'Bachelors', 'Early_Career_Pay': '$98,300', 'Mid_Career_Pay': '$191,800', 'High_Meaning': '21%'}, '3': {'Rank': '3', 'Major': 'Interaction Design', 'Degree_Type': 'Bachelors', 'Early_Career_Pay': '$74,700', 'Mid_Career_Pay': '$173,600', 'High_Meaning': '54%'}, '4': {'Rank': '4', 'Major': 'Applied Economics and Management', 'Degree_Type': 'Bachelors', 'Early_Career_Pay': '$76,500', 'Mid_Career_Pay': '$164,400', 'High_Meaning': '54%'}, '5': {'Rank': '5', 'Major': 'Building Science', 'Degree_Type': 'Bachelors', 'Early_Career_Pay': '$69,000', 'Mid_Career_Pay': '$163,100', 'High_Meaning': '47%'}, '6': {'Rank': '6', 'Major': 'Operations Research', 'Degree_Type': 'Bachelors', 'Early_Career_Pay': '$92,200', 'Mid_Career_Pay': '$160,000', 'High_Meaning': '57%'}, '8': {'Rank': '8', 'Major': 'Systems Engineering', 'Degree_Type': 'Bachelors', 'Early_Career_Pay': '$87,000', 'Mid_Career_Pay': '$159,100', 'High_Meaning': '58%'}, '9': {'Rank': '9', 'Major': 'Optical Science & Engineering', 'Degree_Type': 'Bachelors', 'Early_Career_Pay': '$79,600', 'Mid_Career_Pay': '$158,300', 'High_Meaning': '73%'}, '10': {'Rank': '10', 'Major': 'Information & Computer Science', 'Degree_Type': 'Bachelors', 'Early_Career_Pay': '$76,000', 'Mid_Career_Pay': '$157,800', 'High_Meaning': '63%'}, '11': {'Rank': '11', 'Major': 'Aeronautics & Astronautics', 'Degree_Type': 'Bachelors', 'Early_Career_Pay': '$88,200', 'Mid_Career_Pay': '$156,900', 'High_Meaning': '56%'}, '12': {'Rank': '12', 'Major': 'Aerospace Studies', 'Degree_Type': 'Bachelors', 'Early_Career_Pay': '$62,600', 'Mid_Career_Pay': '$154,300', 'High_Meaning': '-'}, '13': {'Rank': '13', 'Major': 'Pharmacy', 'Degree_Type': 'Bachelors', 'Early_Career_Pay': '$69,400', 'Mid_Career_Pay': '$154,000', 'High_Meaning': '79%'}, '14': {'Rank': '14', 'Major': 'Cognitive Science', 'Degree_Type': 'Bachelors', 'Early_Career_Pay': '$78,000', 'Mid_Career_Pay': '$153,800', 'High_Meaning': '43%'}, '15': {'Rank': '15', 'Major': 'Managerial Economics', 'Degree_Type': 'Bachelors', 'Early_Career_Pay': '$74,700', 'Mid_Career_Pay': '$153,300', 'High_Meaning': '38%'}, '16': {'Rank': '16', 'Major': 'Quantitative Economics', 'Degree_Type': 'Bachelors', 'Early_Career_Pay': '$74,500', 'Mid_Career_Pay': '$152,700', 'High_Meaning': '43%'}, '17': {'Rank': '17', 'Major': 'Econometrics', 'Degree_Type': 'Bachelors', 'Early_Career_Pay': '$72,000', 'Mid_Career_Pay': '$152,100', 'High_Meaning': '35%'}, '18': {'Rank': '18', 'Major': 'Foreign Affairs', 'Degree_Type': 'Bachelors', 'Early_Career_Pay': '$62,900', 'Mid_Career_Pay': '$152,000', 'High_Meaning': '32%'}, '19': {'Rank': '19', 'Major': 'Chemical Engineering', 'Degree_Type': 'Bachelors', 'Early_Career_Pay': '$85,600', 'Mid_Career_Pay': '$151,800', 'High_Meaning': '55%'}, '20': {'Rank': '20', 'Major': 'Public Accounting', 'Degree_Type': 'Bachelors', 'Early_Career_Pay': '$69,700', 'Mid_Career_Pay': '$151,200', 'High_Meaning': '47%'}, '21': {'Rank': '21', 'Major': 'Political Economy', 'Degree_Type': 'Bachelors', 'Early_Career_Pay': '$73,100', 'Mid_Career_Pay': '$150,600', 'High_Meaning': '31%'}, '22': {'Rank': '22', 'Major': 'Corporate Accounting & Finance', 'Degree_Type': 'Bachelors', 'Early_Career_Pay': '$76,800', 'Mid_Career_Pay': '$149,600', 'High_Meaning': '50%'}, '23': {'Rank': '23', 'Major': 'Actuarial Science', 'Degree_Type': 'Bachelors', 'Early_Career_Pay': '$76,700', 'Mid_Career_Pay': '$149,000', 'High_Meaning': '42%'}, '24': {'Rank': '24', 'Major': 'Computer Engineering (CE)', 'Degree_Type': 'Bachelors', 'Early_Career_Pay': '$89,100', 'Mid_Career_Pay': '$148,500', 'High_Meaning': '46%'}, '25': {'Rank': '25', 'Major': 'Electrical Power Engineering', 'Degree_Type': 'Bachelors', 'Early_Career_Pay': '$84,700', 'Mid_Career_Pay': '$148,300', 'High_Meaning': '72%'}, '26': {'Rank': '26', 'Major': 'Computer Science (CS) & Engineering', 'Degree_Type': 'Bachelors', 'Early_Career_Pay': '$90,500', 'Mid_Career_Pay': '$148,200', 'High_Meaning': '44%'}, '27': {'Rank': '27', 'Major': 'Marine Transportation Management', 'Degree_Type': 'Bachelors', 'Early_Career_Pay': '$78,700', 'Mid_Career_Pay': '$148,000', 'High_Meaning': '-'}, '28': {'Rank': '28', 'Major': 'Operations & Information Systems Management', 'Degree_Type': 'Bachelors', 'Early_Career_Pay': '$78,800', 'Mid_Career_Pay': '$147,500', 'High_Meaning': '24%'}, '30': {'Rank': '30', 'Major': 'Electrical & Computer Engineering (ECE)', 'Degree_Type': 'Bachelors', 'Early_Career_Pay': '$88,100', 'Mid_Career_Pay': '$147,000', 'High_Meaning': '49%'}, '31': {'Rank': '31', 'Major': 'Entrepreneurship & Marketing', 'Degree_Type': 'Bachelors', 'Early_Career_Pay': '$63,200', 'Mid_Career_Pay': '$145,800', 'High_Meaning': '45%'}, '32': {'Rank': '32', 'Major': 'Astronomy', 'Degree_Type': 'Bachelors', 'Early_Career_Pay': '$75,300', 'Mid_Career_Pay': '$145,600', 'High_Meaning': '52%'}, '33': {'Rank': '33', 'Major': 'Mechatronics', 'Degree_Type': 'Bachelors', 'Early_Career_Pay': '$80,900', 'Mid_Career_Pay': '$144,300', 'High_Meaning': '46%'}, '34': {'Rank': '34', 'Major': 'Computational & Applied Mathematics', 'Degree_Type': 'Bachelors', 'Early_Career_Pay': '$85,700', 'Mid_Career_Pay': '$144,100', 'High_Meaning': '46%'}, '35': {'Rank': '35', 'Major': 'Aeronautical Engineering', 'Degree_Type': 'Bachelors', 'Early_Career_Pay': '$84,200', 'Mid_Career_Pay': '$143,400', 'High_Meaning': '63%'}, '36': {'Rank': '36', 'Major': 'Welding Engineering', 'Degree_Type': 'Bachelors', 'Early_Career_Pay': '$86,600', 'Mid_Career_Pay': '$143,300', 'High_Meaning': '-'}, '37': {'Rank': '37', 'Major': 'Electrical Engineering (EE)', 'Degree_Type': 'Bachelors', 'Early_Career_Pay': '$84,900', 'Mid_Career_Pay': '$143,000', 'High_Meaning': '54%'}, '38': {'Rank': '38', 'Major': 'Electrical & Electronics Engineering (EEE)', 'Degree_Type': 'Bachelors', 'Early_Career_Pay': '$83,900', 'Mid_Career_Pay': '$142,900', 'High_Meaning': '57%'}, '39': {'Rank': '39', 'Major': 'Naval Architecture & Marine Engineering', 'Degree_Type': 'Bachelors', 'Early_Career_Pay': '$82,800', 'Mid_Career_Pay': '$142,800', 'High_Meaning': '49%'}, '40': {'Rank': '40', 'Major': 'Instrumentation & Control Engineering', 'Degree_Type': 'Bachelors', 'Early_Career_Pay': '$82,800', 'Mid_Career_Pay': '$141,900', 'High_Meaning': '44%'}, '41': {'Rank': '41', 'Major': 'Construction Engineering Management', 'Degree_Type': 'Bachelors', 'Early_Career_Pay': '$78,100', 'Mid_Career_Pay': '$141,800', 'High_Meaning': '53%'}, '42': {'Rank': '42', 'Major': 'Computer Science (CS) & Mathematics', 'Degree_Type': 'Bachelors', 'Early_Career_Pay': '$80,300', 'Mid_Career_Pay': '$141,000', 'High_Meaning': '44%'}, '43': {'Rank': '43', 'Major': 'Engineering Physics', 'Degree_Type': 'Bachelors', 'Early_Career_Pay': '$78,600', 'Mid_Career_Pay': '$140,300', 'High_Meaning': '48%'}, '44': {'Rank': '44', 'Major': 'Mechanical & Aeronautical Engineering', 'Degree_Type': 'Bachelors', 'Early_Career_Pay': '$80,900', 'Mid_Career_Pay': '$139,900', 'High_Meaning': '62%'}, '45': {'Rank': '45', 'Major': 'Computer Science (CS)', 'Degree_Type': 'Bachelors', 'Early_Career_Pay': '$85,400', 'Mid_Career_Pay': '$139,700', 'High_Meaning': '42%'}, '47': {'Rank': '47', 'Major': 'Jazz Studies', 'Degree_Type': 'Bachelors', 'Early_Career_Pay': '$60,000', 'Mid_Career_Pay': '$139,400', 'High_Meaning': '51%'}, '48': {'Rank': '48', 'Major': 'Bioscience', 'Degree_Type': 'Bachelors', 'Early_Career_Pay': '$59,900', 'Mid_Career_Pay': '$139,300', 'High_Meaning': '-'}, '49': {'Rank': '49', 'Major': 'Information Management', 'Degree_Type': 'Bachelors', 'Early_Career_Pay': '$67,000', 'Mid_Career_Pay': '$139,000', 'High_Meaning': '33%'}, '50': {'Rank': '50', 'Major': 'Aerospace Engineering', 'Degree_Type': 'Bachelors', 'Early_Career_Pay': '$83,500', 'Mid_Career_Pay': '$138,100', 'High_Meaning': '53%'}, '51': {'Rank': '51', 'Major': 'Pharmacology', 'Degree_Type': 'Bachelors', 'Early_Career_Pay': '$63,500', 'Mid_Career_Pay': '$137,800', 'High_Meaning': '-'}, '53': {'Rank': '53', 'Major': 'Nuclear Engineering', 'Degree_Type': 'Bachelors', 'Early_Career_Pay': '$85,200', 'Mid_Career_Pay': '$137,600', 'High_Meaning': '55%'}, '54': {'Rank': '54', 'Major': 'Bioengineering (BioE)', 'Degree_Type': 'Bachelors', 'Early_Career_Pay': '$79,500', 'Mid_Career_Pay': '$137,300', 'High_Meaning': '67%'}, '55': {'Rank': '55', 'Major': 'Applied Mathematics', 'Degree_Type': 'Bachelors', 'Early_Career_Pay': '$77,200', 'Mid_Career_Pay': '$137,000', 'High_Meaning': '40%'}, '56': {'Rank': '56', 'Major': 'Physician Assistant Studies', 'Degree_Type': 'Bachelors', 'Early_Career_Pay': '$109,600', 'Mid_Career_Pay': '$136,500', 'High_Meaning': '83%'}, '58': {'Rank': '58', 'Major': 'Materials Science', 'Degree_Type': 'Bachelors', 'Early_Career_Pay': '$76,700', 'Mid_Career_Pay': '$136,200', 'High_Meaning': '-'}, '59': {'Rank': '59', 'Major': 'Engineering', 'Degree_Type': 'Bachelors', 'Early_Career_Pay': '$77,800', 'Mid_Career_Pay': '$135,800', 'High_Meaning': '58%'}, '60': {'Rank': '60', 'Major': 'Industrial & Systems Engineering', 'Degree_Type': 'Bachelors', 'Early_Career_Pay': '$82,000', 'Mid_Career_Pay': '$135,700', 'High_Meaning': '48%'}, '61': {'Rank': '61', 'Major': 'Metallurgical Engineering', 'Degree_Type': 'Bachelors', 'Early_Career_Pay': '$90,800', 'Mid_Career_Pay': '$135,500', 'High_Meaning': '63%'}, '62': {'Rank': '62', 'Major': 'Materials Science & Engineering', 'Degree_Type': 'Bachelors', 'Early_Career_Pay': '$81,200', 'Mid_Career_Pay': '$135,300', 'High_Meaning': '47%'}, '63': {'Rank': '63', 'Major': 'Mining Engineering', 'Degree_Type': 'Bachelors', 'Early_Career_Pay': '$87,400', 'Mid_Career_Pay': '$135,200', 'High_Meaning': '59%'}, '64': {'Rank': '64', 'Major': 'Operations Management & Information Systems', 'Degree_Type': 'Bachelors', 'Early_Career_Pay': '$75,900', 'Mid_Career_Pay': '$134,900', 'High_Meaning': '43%'}, '65': {'Rank': '65', 'Major': 'Business & Information Technology (IT)', 'Degree_Type': 'Bachelors', 'Early_Career_Pay': '$71,400', 'Mid_Career_Pay': '$134,700', 'High_Meaning': '50%'}, '66': {'Rank': '66', 'Major': 'Interactive Media Design', 'Degree_Type': 'Bachelors', 'Early_Career_Pay': '$59,600', 'Mid_Career_Pay': '$134,400', 'High_Meaning': '33%'}, '67': {'Rank': '67', 'Major': 'Physics', 'Degree_Type': 'Bachelors', 'Early_Career_Pay': '$75,500', 'Mid_Career_Pay': '$134,100', 'High_Meaning': '49%'}, '69': {'Rank': '69', 'Major': 'Materials Engineering', 'Degree_Type': 'Bachelors', 'Early_Career_Pay': '$81,200', 'Mid_Career_Pay': '$133,900', 'High_Meaning': '58%'}, '70': {'Rank': '70', 'Major': 'Biomedical Engineering (BME)', 'Degree_Type': 'Bachelors', 'Early_Career_Pay': '$80,300', 'Mid_Career_Pay': '$133,500', 'High_Meaning': '71%'}, '71': {'Rank': '71', 'Major': 'Software Engineering', 'Degree_Type': 'Bachelors', 'Early_Career_Pay': '$84,200', 'Mid_Career_Pay': '$133,400', 'High_Meaning': '45%'}, '73': {'Rank': '73', 'Major': 'Global & International Studies', 'Degree_Type': 'Bachelors', 'Early_Career_Pay': '$59,400', 'Mid_Career_Pay': '$133,300', 'High_Meaning': '55%'}, '74': {'Rank': '74', 'Major': 'Computer & Information Science', 'Degree_Type': 'Bachelors', 'Early_Career_Pay': '$72,600', 'Mid_Career_Pay': '$133,100', 'High_Meaning': '58%'}, '75': {'Rank': '75', 'Major': 'Aeronautical/Aerospace Engineering Technology', 'Degree_Type': 'Bachelors', 'Early_Career_Pay': '$82,400', 'Mid_Career_Pay': '$132,800', 'High_Meaning': '51%'}, '76': {'Rank': '76', 'Major': 'Industrial Hygiene', 'Degree_Type': 'Bachelors', 'Early_Career_Pay': '$65,100', 'Mid_Career_Pay': '$132,700', 'High_Meaning': '54%'}, '78': {'Rank': '78', 'Major': 'Engineering Mechanics', 'Degree_Type': 'Bachelors', 'Early_Career_Pay': '$82,800', 'Mid_Career_Pay': '$131,900', 'High_Meaning': '-'}, '79': {'Rank': '79', 'Major': 'Business & Economics', 'Degree_Type': 'Bachelors', 'Early_Career_Pay': '$66,500', 'Mid_Career_Pay': '$131,700', 'High_Meaning': '44%'}, '80': {'Rank': '80', 'Major': 'Astrophysics', 'Degree_Type': 'Bachelors', 'Early_Career_Pay': '$78,600', 'Mid_Career_Pay': '$131,200', 'High_Meaning': '61%'}, '81': {'Rank': '81', 'Major': 'Telecommunications Engineering', 'Degree_Type': 'Bachelors', 'Early_Career_Pay': '$78,000', 'Mid_Career_Pay': '$130,900', 'High_Meaning': '50%'}, '83': {'Rank': '83', 'Major': 'International Business & Finance', 'Degree_Type': 'Bachelors', 'Early_Career_Pay': '$69,000', 'Mid_Career_Pay': '$130,800', 'High_Meaning': '30%'}, '84': {'Rank': '84', 'Major': 'International Economics', 'Degree_Type': 'Bachelors', 'Early_Career_Pay': '$66,200', 'Mid_Career_Pay': '$130,600', 'High_Meaning': '54%'}, '85': {'Rank': '85', 'Major': 'Mechanical Engineering (ME)', 'Degree_Type': 'Bachelors', 'Early_Career_Pay': '$79,600', 'Mid_Career_Pay': '$130,300', 'High_Meaning': '49%'}, '88': {'Rank': '88', 'Major': 'Economics', 'Degree_Type': 'Bachelors', 'Early_Career_Pay': '$70,500', 'Mid_Career_Pay': '$130,200', 'High_Meaning': '41%'}, '89': {'Rank': '89', 'Major': 'Ceramic Engineering', 'Degree_Type': 'Bachelors', 'Early_Career_Pay': '$76,400', 'Mid_Career_Pay': '$129,900', 'High_Meaning': '46%'}, '90': {'Rank': '90', 'Major': 'Management Information Systems (MIS)', 'Degree_Type': 'Bachelors', 'Early_Career_Pay': '$73,900', 'Mid_Career_Pay': '$129,500', 'High_Meaning': '42%'}, '91': {'Rank': '91', 'Major': 'Industrial Distribution', 'Degree_Type': 'Bachelors', 'Early_Career_Pay': '$71,400', 'Mid_Career_Pay': '$129,200', 'High_Meaning': '48%'}, '92': {'Rank': '92', 'Major': 'Structural Engineering (SE)', 'Degree_Type': 'Bachelors', 'Early_Career_Pay': '$76,200', 'Mid_Career_Pay': '$128,900', 'High_Meaning': '67%'}, '93': {'Rank': '93', 'Major': 'Accounting & Taxation', 'Degree_Type': 'Bachelors', 'Early_Career_Pay': '$61,900', 'Mid_Career_Pay': '$128,600', 'High_Meaning': '-'}, '94': {'Rank': '94', 'Major': 'Integrated Science & Technology', 'Degree_Type': 'Bachelors', 'Early_Career_Pay': '$71,600', 'Mid_Career_Pay': '$128,400', 'High_Meaning': '55%'}, '95': {'Rank': '95', 'Major': 'Automotive Engineering', 'Degree_Type': 'Bachelors', 'Early_Career_Pay': '$75,700', 'Mid_Career_Pay': '$128,300', 'High_Meaning': '50%'}, '96': {'Rank': '96', 'Major': 'Mathematics & Statistics', 'Degree_Type': 'Bachelors', 'Early_Career_Pay': '$71,800', 'Mid_Career_Pay': '$128,100', 'High_Meaning': '43%'}, '97': {'Rank': '97', 'Major': 'Packaging Science', 'Degree_Type': 'Bachelors', 'Early_Career_Pay': '$78,600', 'Mid_Career_Pay': '$127,600', 'High_Meaning': '41%'}, '98': {'Rank': '98', 'Major': 'Construction Project Management', 'Degree_Type': 'Bachelors', 'Early_Career_Pay': '$69,400', 'Mid_Career_Pay': '$127,400', 'High_Meaning': '64%'}, '99': {'Rank': '99', 'Major': 'Plastics Engineering', 'Degree_Type': 'Bachelors', 'Early_Career_Pay': '$79,200', 'Mid_Career_Pay': '$127,200', 'High_Meaning': '58%'}, '100': {'Rank': '100', 'Major': 'Information & Decision Sciences', 'Degree_Type': 'Bachelors', 'Early_Career_Pay': '$73,200', 'Mid_Career_Pay': '$126,800', 'High_Meaning': '36%'}, '101': {'Rank': '101', 'Major': 'Applied Physics', 'Degree_Type': 'Bachelors', 'Early_Career_Pay': '$75,800', 'Mid_Career_Pay': '$126,500', 'High_Meaning': '53%'}, '102': {'Rank': '102', 'Major': 'Petroleum Land Management', 'Degree_Type': 'Bachelors', 'Early_Career_Pay': '$66,600', 'Mid_Career_Pay': '$125,900', 'High_Meaning': '-'}, '104': {'Rank': '104', 'Major': 'Industrial Engineering & Management', 'Degree_Type': 'Bachelors', 'Early_Career_Pay': '$74,800', 'Mid_Career_Pay': '$125,700', 'High_Meaning': '54%'}, '105': {'Rank': '105', 'Major': 'Psychobiology', 'Degree_Type': 'Bachelors', 'Early_Career_Pay': '$58,600', 'Mid_Career_Pay': '$125,400', 'High_Meaning': '69%'}, '107': {'Rank': '107', 'Major': 'Finance & Economics', 'Degree_Type': 'Bachelors', 'Early_Career_Pay': '$70,300', 'Mid_Career_Pay': '$124,800', 'High_Meaning': '42%'}, '108': {'Rank': '108', 'Major': 'Medicine', 'Degree_Type': 'Bachelors', 'Early_Career_Pay': '$88,700', 'Mid_Career_Pay': '$124,700', 'High_Meaning': '94%'}, '109': {'Rank': '109', 'Major': 'Asian Studies', 'Degree_Type': 'Bachelors', 'Early_Career_Pay': '$53,100', 'Mid_Career_Pay': '$123,800', 'High_Meaning': '43%'}, '110': {'Rank': '110', 'Major': 'Marketing & International Business', 'Degree_Type': 'Bachelors', 'Early_Career_Pay': '$59,600', 'Mid_Career_Pay': '$123,500', 'High_Meaning': '36%'}, '111': {'Rank': '111', 'Major': 'Government', 'Degree_Type': 'Bachelors', 'Early_Career_Pay': '$63,500', 'Mid_Career_Pay': '$123,400', 'High_Meaning': '45%'}, '112': {'Rank': '112', 'Major': 'Finance & Real Estate', 'Degree_Type': 'Bachelors', 'Early_Career_Pay': '$73,500', 'Mid_Career_Pay': '$123,300', 'High_Meaning': '42%'}, '114': {'Rank': '114', 'Major': 'Financial Economics', 'Degree_Type': 'Bachelors', 'Early_Career_Pay': '$70,500', 'Mid_Career_Pay': '$123,100', 'High_Meaning': '36%'}, '117': {'Rank': '117', 'Major': 'Nuclear Engineering Technology (NET)', 'Degree_Type': 'Bachelors', 'Early_Career_Pay': '$92,500', 'Mid_Career_Pay': '$122,800', 'High_Meaning': '54%'}, '119': {'Rank': '119', 'Major': 'Mathematics', 'Degree_Type': 'Bachelors', 'Early_Career_Pay': '$72,300', 'Mid_Career_Pay': '$122,700', 'High_Meaning': '44%'}, '120': {'Rank': '120', 'Major': 'Civil Engineering (CE)', 'Degree_Type': 'Bachelors', 'Early_Career_Pay': '$73,400', 'Mid_Career_Pay': '$122,600', 'High_Meaning': '65%'}, '121': {'Rank': '121', 'Major': 'Polymer Science & Engineering', 'Degree_Type': 'Bachelors', 'Early_Career_Pay': '$82,900', 'Mid_Career_Pay': '$122,200', 'High_Meaning': '-'}, '124': {'Rank': '124', 'Major': 'Applied Economics', 'Degree_Type': 'Bachelors', 'Early_Career_Pay': '$69,200', 'Mid_Career_Pay': '$122,000', 'High_Meaning': '41%'}, '126': {'Rank': '126', 'Major': 'Economics & Political Science', 'Degree_Type': 'Bachelors', 'Early_Career_Pay': '$64,200', 'Mid_Career_Pay': '$121,900', 'High_Meaning': '46%'}, '129': {'Rank': '129', 'Major': 'Construction Science', 'Degree_Type': 'Bachelors', 'Early_Career_Pay': '$77,500', 'Mid_Career_Pay': '$121,800', 'High_Meaning': '67%'}, '133': {'Rank': '133', 'Major': 'Control Engineering', 'Degree_Type': 'Bachelors', 'Early_Career_Pay': '$77,700', 'Mid_Career_Pay': '$121,700', 'High_Meaning': '59%'}, '134': {'Rank': '134', 'Major': 'Russian Studies', 'Degree_Type': 'Bachelors', 'Early_Career_Pay': '$56,500', 'Mid_Career_Pay': '$121,600', 'High_Meaning': '41%'}, '135': {'Rank': '135', 'Major': 'Cybersecurity', 'Degree_Type': 'Bachelors', 'Early_Career_Pay': '$72,600', 'Mid_Career_Pay': '$121,500', 'High_Meaning': '56%'}, '136': {'Rank': '136', 'Major': 'Robotics & Automation', 'Degree_Type': 'Bachelors', 'Early_Career_Pay': '$72,700', 'Mid_Career_Pay': '$121,200', 'High_Meaning': '69%'}, '137': {'Rank': '137', 'Major': 'Computer Management Information Systems (CMIS)', 'Degree_Type': 'Bachelors', 'Early_Career_Pay': '$63,900', 'Mid_Career_Pay': '$121,100', 'High_Meaning': '50%'}, '138': {'Rank': '138', 'Major': 'Manufacturing Engineering', 'Degree_Type': 'Bachelors', 'Early_Career_Pay': '$77,500', 'Mid_Career_Pay': '$121,000', 'High_Meaning': '50%'}, '140': {'Rank': '140', 'Major': 'Information Systems (IS)', 'Degree_Type': 'Bachelors', 'Early_Career_Pay': '$73,000', 'Mid_Career_Pay': '$120,600', 'High_Meaning': '45%'}, '141': {'Rank': '141', 'Major': 'Engineering Management', 'Degree_Type': 'Bachelors', 'Early_Career_Pay': '$77,400', 'Mid_Career_Pay': '$120,500', 'High_Meaning': '53%'}, '142': {'Rank': '142', 'Major': 'Computing & Information Systems (CIS)', 'Degree_Type': 'Bachelors', 'Early_Career_Pay': '$68,900', 'Mid_Career_Pay': '$120,000', 'High_Meaning': '46%'}, '143': {'Rank': '143', 'Major': 'Mechanical', 'Degree_Type': 'Bachelors', 'Early_Career_Pay': '$79,800', 'Mid_Career_Pay': '$119,900', 'High_Meaning': '41%'}, '144': {'Rank': '144', 'Major': 'Business Logistics & Transportation', 'Degree_Type': 'Bachelors', 'Early_Career_Pay': '$64,700', 'Mid_Career_Pay': '$119,800', 'High_Meaning': '42%'}, '145': {'Rank': '145', 'Major': 'Biosystems Engineering', 'Degree_Type': 'Bachelors', 'Early_Career_Pay': '$72,600', 'Mid_Career_Pay': '$119,500', 'High_Meaning': '69%'}, '146': {'Rank': '146', 'Major': 'Agricultural Economics', 'Degree_Type': 'Bachelors', 'Early_Career_Pay': '$61,700', 'Mid_Career_Pay': '$119,400', 'High_Meaning': '57%'}, '147': {'Rank': '147', 'Major': 'Geophysics', 'Degree_Type': 'Bachelors', 'Early_Career_Pay': '$62,700', 'Mid_Career_Pay': '$119,300', 'High_Meaning': '42%'}, '150': {'Rank': '150', 'Major': 'Management & Finance', 'Degree_Type': 'Bachelors', 'Early_Career_Pay': '$64,100', 'Mid_Career_Pay': '$118,800', 'High_Meaning': '61%'}, '151': {'Rank': '151', 'Major': 'Organic Chemistry', 'Degree_Type': 'Bachelors', 'Early_Career_Pay': '$50,600', 'Mid_Career_Pay': '$118,600', 'High_Meaning': '-'}, '154': {'Rank': '154', 'Major': 'Real Estate', 'Degree_Type': 'Bachelors', 'Early_Career_Pay': '$69,400', 'Mid_Career_Pay': '$118,500', 'High_Meaning': '42%'}, '155': {'Rank': '155', 'Major': 'Plastics Engineering Technology', 'Degree_Type': 'Bachelors', 'Early_Career_Pay': '$73,600', 'Mid_Career_Pay': '$118,400', 'High_Meaning': '34%'}, '157': {'Rank': '157', 'Major': 'Safety Science', 'Degree_Type': 'Bachelors', 'Early_Career_Pay': '$70,000', 'Mid_Career_Pay': '$118,100', 'High_Meaning': '68%'}, '159': {'Rank': '159', 'Major': 'Computer Science & Information Technology', 'Degree_Type': 'Bachelors', 'Early_Career_Pay': '$73,500', 'Mid_Career_Pay': '$118,000', 'High_Meaning': '48%'}, '160': {'Rank': '160', 'Major': 'Japanese Language', 'Degree_Type': 'Bachelors', 'Early_Career_Pay': '$59,900', 'Mid_Career_Pay': '$117,900', 'High_Meaning': '39%'}, '161': {'Rank': '161', 'Major': 'International Business', 'Degree_Type': 'Bachelors', 'Early_Career_Pay': '$63,100', 'Mid_Career_Pay': '$117,800', 'High_Meaning': '40%'}, '163': {'Rank': '163', 'Major': 'Architectural Engineering', 'Degree_Type': 'Bachelors', 'Early_Career_Pay': '$74,600', 'Mid_Career_Pay': '$117,700', 'High_Meaning': '57%'}, '164': {'Rank': '164', 'Major': 'Molecular Biology', 'Degree_Type': 'Bachelors', 'Early_Career_Pay': '$61,700', 'Mid_Career_Pay': '$117,600', 'High_Meaning': '66%'}, '166': {'Rank': '166', 'Major': 'Building Construction Management', 'Degree_Type': 'Bachelors', 'Early_Career_Pay': '$70,500', 'Mid_Career_Pay': '$117,500', 'High_Meaning': '67%'}, '167': {'Rank': '167', 'Major': 'Business Operations', 'Degree_Type': 'Bachelors', 'Early_Career_Pay': '$71,300', 'Mid_Career_Pay': '$117,400', 'High_Meaning': '-'}, '168': {'Rank': '168', 'Major': 'Electrical Engineering Technology (EET)', 'Degree_Type': 'Bachelors', 'Early_Career_Pay': '$74,000', 'Mid_Career_Pay': '$117,300', 'High_Meaning': '48%'}, '170': {'Rank': '170', 'Major': 'Government & International Politics (GVIP)', 'Degree_Type': 'Bachelors', 'Early_Career_Pay': '$58,100', 'Mid_Career_Pay': '$117,200', 'High_Meaning': '44%'}, '171': {'Rank': '171', 'Major': 'Information Security', 'Degree_Type': 'Bachelors', 'Early_Career_Pay': '$75,000', 'Mid_Career_Pay': '$117,100', 'High_Meaning': '40%'}, '172': {'Rank': '172', 'Major': 'East Asian Studies', 'Degree_Type': 'Bachelors', 'Early_Career_Pay': '$57,500', 'Mid_Career_Pay': '$116,900', 'High_Meaning': '49%'}, '173': {'Rank': '173', 'Major': 'Strategic Management', 'Degree_Type': 'Bachelors', 'Early_Career_Pay': '$74,900', 'Mid_Career_Pay': '$116,700', 'High_Meaning': '48%'}, '174': {'Rank': '174', 'Major': 'Labor Relations', 'Degree_Type': 'Bachelors', 'Early_Career_Pay': '$55,700', 'Mid_Career_Pay': '$116,600', 'High_Meaning': '35%'}, '175': {'Rank': '175', 'Major': 'Entrepreneurship & Leadership', 'Degree_Type': 'Bachelors', 'Early_Career_Pay': '$64,300', 'Mid_Career_Pay': '$116,400', 'High_Meaning': '43%'}, '176': {'Rank': '176', 'Major': 'Agricultural Engineering (AE)', 'Degree_Type': 'Bachelors', 'Early_Career_Pay': '$71,500', 'Mid_Career_Pay': '$116,300', 'High_Meaning': '62%'}, '177': {'Rank': '177', 'Major': 'International Relations', 'Degree_Type': 'Bachelors', 'Early_Career_Pay': '$60,500', 'Mid_Career_Pay': '$116,100', 'High_Meaning': '49%'}, '179': {'Rank': '179', 'Major': 'Financial Planning', 'Degree_Type': 'Bachelors', 'Early_Career_Pay': '$61,200', 'Mid_Career_Pay': '$115,800', 'High_Meaning': '59%'}, '180': {'Rank': '180', 'Major': 'Corporate Finance', 'Degree_Type': 'Bachelors', 'Early_Career_Pay': '$72,400', 'Mid_Career_Pay': '$115,700', 'High_Meaning': '40%'}, '182': {'Rank': '182', 'Major': 'Engineering Science', 'Degree_Type': 'Bachelors', 'Early_Career_Pay': '$77,500', 'Mid_Career_Pay': '$115,600', 'High_Meaning': '47%'}, '183': {'Rank': '183', 'Major': 'European History', 'Degree_Type': 'Bachelors', 'Early_Career_Pay': '$59,400', 'Mid_Career_Pay': '$115,500', 'High_Meaning': '41%'}, '184': {'Rank': '184', 'Major': 'Rhetoric', 'Degree_Type': 'Bachelors', 'Early_Career_Pay': '$59,300', 'Mid_Career_Pay': '$114,900', 'High_Meaning': '41%'}, '185': {'Rank': '185', 'Major': 'Network Engineering', 'Degree_Type': 'Bachelors', 'Early_Career_Pay': '$69,400', 'Mid_Career_Pay': '$114,600', 'High_Meaning': '51%'}, '186': {'Rank': '186', 'Major': 'Mechanical Design', 'Degree_Type': 'Bachelors', 'Early_Career_Pay': '$68,400', 'Mid_Career_Pay': '$114,500', 'High_Meaning': '50%'}, '187': {'Rank': '187', 'Major': 'Environmental Engineering', 'Degree_Type': 'Bachelors', 'Early_Career_Pay': '$70,400', 'Mid_Career_Pay': '$114,400', 'High_Meaning': '62%'}, '188': {'Rank': '188', 'Major': 'Robotics', 'Degree_Type': 'Bachelors', 'Early_Career_Pay': '$87,900', 'Mid_Career_Pay': '$114,000', 'High_Meaning': '57%'}, '190': {'Rank': '190', 'Major': 'Economics & Management', 'Degree_Type': 'Bachelors', 'Early_Career_Pay': '$61,500', 'Mid_Career_Pay': '$113,800', 'High_Meaning': '47%'}, '191': {'Rank': '191', 'Major': 'Product Design', 'Degree_Type': 'Bachelors', 'Early_Career_Pay': '$70,000', 'Mid_Career_Pay': '$113,600', 'High_Meaning': '38%'}, '193': {'Rank': '193', 'Major': 'Mechanical Engineering Technology (MET)', 'Degree_Type': 'Bachelors', 'Early_Career_Pay': '$72,300', 'Mid_Career_Pay': '$113,200', 'High_Meaning': '48%'}, '194': {'Rank': '194', 'Major': 'Industrial & Labor Relations', 'Degree_Type': 'Bachelors', 'Early_Career_Pay': '$77,000', 'Mid_Career_Pay': '$113,000', 'High_Meaning': '44%'}, '195': {'Rank': '195', 'Major': 'Food Science & Technology', 'Degree_Type': 'Bachelors', 'Early_Career_Pay': '$59,800', 'Mid_Career_Pay': '$112,800', 'High_Meaning': '49%'}, '196': {'Rank': '196', 'Major': 'Accounting & Auditing', 'Degree_Type': 'Bachelors', 'Early_Career_Pay': '$65,400', 'Mid_Career_Pay': '$112,700', 'High_Meaning': '44%'}, '197': {'Rank': '197', 'Major': 'Biochemistry (BCH)', 'Degree_Type': 'Bachelors', 'Early_Career_Pay': '$57,100', 'Mid_Career_Pay': '$112,600', 'High_Meaning': '64%'}, '198': {'Rank': '198', 'Major': 'Biotechnology', 'Degree_Type': 'Bachelors', 'Early_Career_Pay': '$61,100', 'Mid_Career_Pay': '$112,500', 'High_Meaning': '62%'}, '202': {'Rank': '202', 'Major': 'Web Development', 'Degree_Type': 'Bachelors', 'Early_Career_Pay': '$61,600', 'Mid_Career_Pay': '$112,200', 'High_Meaning': '43%'}, '205': {'Rank': '205', 'Major': 'Telecommunication & Information Management', 'Degree_Type': 'Bachelors', 'Early_Career_Pay': '$66,800', 'Mid_Career_Pay': '$111,900', 'High_Meaning': '42%'}, '208': {'Rank': '208', 'Major': 'Pharmaceutical Sciences (PS)', 'Degree_Type': 'Bachelors', 'Early_Career_Pay': '$60,900', 'Mid_Career_Pay': '$111,600', 'High_Meaning': '69%'}, '210': {'Rank': '210', 'Major': 'Organizational Behavior', 'Degree_Type': 'Bachelors', 'Early_Career_Pay': '$63,500', 'Mid_Career_Pay': '$111,400', 'High_Meaning': '56%'}, '214': {'Rank': '214', 'Major': 'Sales & Business Marketing', 'Degree_Type': 'Bachelors', 'Early_Career_Pay': '$63,900', 'Mid_Career_Pay': '$111,300', 'High_Meaning': '55%'}, '217': {'Rank': '217', 'Major': 'Informatics', 'Degree_Type': 'Bachelors', 'Early_Career_Pay': '$78,700', 'Mid_Career_Pay': '$111,200', 'High_Meaning': '46%'}, '219': {'Rank': '219', 'Major': 'Structural Design & Construction Engineering Technology', 'Degree_Type': 'Bachelors', 'Early_Career_Pay': '$77,000', 'Mid_Career_Pay': '$111,100', 'High_Meaning': '48%'}, '221': {'Rank': '221', 'Major': 'Software Applications & Programming', 'Degree_Type': 'Bachelors', 'Early_Career_Pay': '$71,400', 'Mid_Career_Pay': '$110,800', 'High_Meaning': '33%'}, '224': {'Rank': '224', 'Major': 'Occupational Health and Safety', 'Degree_Type': 'Bachelors', 'Early_Career_Pay': '$66,800', 'Mid_Career_Pay': '$110,700', 'High_Meaning': '69%'}, '225': {'Rank': '225', 'Major': 'Database Management', 'Degree_Type': 'Bachelors', 'Early_Career_Pay': '$74,500', 'Mid_Career_Pay': '$110,600', 'High_Meaning': '-'}, '226': {'Rank': '226', 'Major': 'Production Management', 'Degree_Type': 'Bachelors', 'Early_Career_Pay': '$55,800', 'Mid_Career_Pay': '$110,400', 'High_Meaning': '27%'}, '228': {'Rank': '228', 'Major': 'Business & Finance', 'Degree_Type': 'Bachelors', 'Early_Career_Pay': '$63,600', 'Mid_Career_Pay': '$109,800', 'High_Meaning': '54%'}, '229': {'Rank': '229', 'Major': 'Telecommunications Management', 'Degree_Type': 'Bachelors', 'Early_Career_Pay': '$60,600', 'Mid_Career_Pay': '$109,600', 'High_Meaning': '46%'}, '232': {'Rank': '232', 'Major': 'Politics', 'Degree_Type': 'Bachelors', 'Early_Career_Pay': '$59,500', 'Mid_Career_Pay': '$109,300', 'High_Meaning': '51%'}, '237': {'Rank': '237', 'Major': 'Physics & Astronomy', 'Degree_Type': 'Bachelors', 'Early_Career_Pay': '$63,700', 'Mid_Career_Pay': '$109,200', 'High_Meaning': '33%'}, '238': {'Rank': '238', 'Major': 'Finance & Banking', 'Degree_Type': 'Bachelors', 'Early_Career_Pay': '$62,600', 'Mid_Career_Pay': '$109,000', 'High_Meaning': '47%'}, '241': {'Rank': '241', 'Major': 'Aviation Flight Science (AFL)', 'Degree_Type': 'Bachelors', 'Early_Career_Pay': '$61,500', 'Mid_Career_Pay': '$108,800', 'High_Meaning': '49%'}, '242': {'Rank': '242', 'Major': 'Construction Science & Management', 'Degree_Type': 'Bachelors', 'Early_Career_Pay': '$73,800', 'Mid_Career_Pay': '$108,600', 'High_Meaning': '75%'}, '243': {'Rank': '243', 'Major': 'Marketing', 'Degree_Type': 'Bachelors', 'Early_Career_Pay': '$58,200', 'Mid_Career_Pay': '$108,400', 'High_Meaning': '41%'}, '244': {'Rank': '244', 'Major': 'Genetics', 'Degree_Type': 'Bachelors', 'Early_Career_Pay': '$61,200', 'Mid_Career_Pay': '$108,100', 'High_Meaning': '72%'}, '247': {'Rank': '247', 'Major': 'Government & Politics', 'Degree_Type': 'Bachelors', 'Early_Career_Pay': '$59,500', 'Mid_Career_Pay': '$107,800', 'High_Meaning': '51%'}, '248': {'Rank': '248', 'Major': 'Applied Networking & Systems Administration', 'Degree_Type': 'Bachelors', 'Early_Career_Pay': '$67,200', 'Mid_Career_Pay': '$107,500', 'High_Meaning': '44%'}, '250': {'Rank': '250', 'Major': 'Industrial Technology (IT)', 'Degree_Type': 'Bachelors', 'Early_Career_Pay': '$71,700', 'Mid_Career_Pay': '$107,400', 'High_Meaning': '50%'}, '251': {'Rank': '251', 'Major': 'Real Estate Development', 'Degree_Type': 'Bachelors', 'Early_Career_Pay': '$66,600', 'Mid_Career_Pay': '$107,200', 'High_Meaning': '-'}, '253': {'Rank': '253', 'Major': 'Electromechanical Engineering', 'Degree_Type': 'Bachelors', 'Early_Career_Pay': '$79,100', 'Mid_Career_Pay': '$107,100', 'High_Meaning': '56%'}, '255': {'Rank': '255', 'Major': 'Social Ecology', 'Degree_Type': 'Bachelors', 'Early_Career_Pay': '$55,400', 'Mid_Career_Pay': '$107,000', 'High_Meaning': '-'}, '257': {'Rank': '257', 'Major': 'Microbiology & Immunology', 'Degree_Type': 'Bachelors', 'Early_Career_Pay': '$63,500', 'Mid_Career_Pay': '$106,800', 'High_Meaning': '74%'}, '258': {'Rank': '258', 'Major': 'French Literature', 'Degree_Type': 'Bachelors', 'Early_Career_Pay': '$53,900', 'Mid_Career_Pay': '$106,600', 'High_Meaning': '50%'}, '259': {'Rank': '259', 'Major': 'Marketing Communication', 'Degree_Type': 'Bachelors', 'Early_Career_Pay': '$52,200', 'Mid_Career_Pay': '$106,500', 'High_Meaning': '42%'}, '263': {'Rank': '263', 'Major': 'Industrial Design (ID)', 'Degree_Type': 'Bachelors', 'Early_Career_Pay': '$62,900', 'Mid_Career_Pay': '$106,400', 'High_Meaning': '40%'}, '265': {'Rank': '265', 'Major': 'Marketing & Communications', 'Degree_Type': 'Bachelors', 'Early_Career_Pay': '$56,400', 'Mid_Career_Pay': '$106,300', 'High_Meaning': '46%'}, '266': {'Rank': '266', 'Major': 'Political Science', 'Degree_Type': 'Bachelors', 'Early_Career_Pay': '$57,700', 'Mid_Career_Pay': '$106,200', 'High_Meaning': '47%'}, '267': {'Rank': '267', 'Major': 'Manufacturing Management', 'Degree_Type': 'Bachelors', 'Early_Career_Pay': '$72,300', 'Mid_Career_Pay': '$106,100', 'High_Meaning': '48%'}, '269': {'Rank': '269', 'Major': 'Risk Management & Insurance', 'Degree_Type': 'Bachelors', 'Early_Career_Pay': '$67,400', 'Mid_Career_Pay': '$106,000', 'High_Meaning': '46%'}, '272': {'Rank': '272', 'Major': 'Sales & Marketing', 'Degree_Type': 'Bachelors', 'Early_Career_Pay': '$61,100', 'Mid_Career_Pay': '$105,800', 'High_Meaning': '49%'}, '274': {'Rank': '274', 'Major': 'Welding Engineering Technology', 'Degree_Type': 'Bachelors', 'Early_Career_Pay': '$82,700', 'Mid_Career_Pay': '$105,600', 'High_Meaning': '42%'}, '275': {'Rank': '275', 'Major': 'Business Data Analysis', 'Degree_Type': 'Bachelors', 'Early_Career_Pay': '$72,600', 'Mid_Career_Pay': '$105,500', 'High_Meaning': '39%'}, '278': {'Rank': '278', 'Major': 'Japanese Studies', 'Degree_Type': 'Bachelors', 'Early_Career_Pay': '$58,000', 'Mid_Career_Pay': '$105,400', 'High_Meaning': '21%'}, '281': {'Rank': '281', 'Major': 'International Development Studies', 'Degree_Type': 'Bachelors', 'Early_Career_Pay': '$53,700', 'Mid_Career_Pay': '$105,200', 'High_Meaning': '62%'}, '285': {'Rank': '285', 'Major': 'Accounting', 'Degree_Type': 'Bachelors', 'Early_Career_Pay': '$62,100', 'Mid_Career_Pay': '$105,100', 'High_Meaning': '41%'}, '286': {'Rank': '286', 'Major': 'Technical Communication', 'Degree_Type': 'Bachelors', 'Early_Career_Pay': '$55,600', 'Mid_Career_Pay': '$105,000', 'High_Meaning': '42%'}, '288': {'Rank': '288', 'Major': 'Computer Programming', 'Degree_Type': 'Bachelors', 'Early_Career_Pay': '$67,000', 'Mid_Career_Pay': '$104,800', 'High_Meaning': '47%'}, '289': {'Rank': '289', 'Major': 'Project Management', 'Degree_Type': 'Bachelors', 'Early_Career_Pay': '$64,400', 'Mid_Career_Pay': '$104,500', 'High_Meaning': '56%'}, '291': {'Rank': '291', 'Major': 'Urban Planning', 'Degree_Type': 'Bachelors', 'Early_Career_Pay': '$56,100', 'Mid_Career_Pay': '$104,200', 'High_Meaning': '53%'}, '294': {'Rank': '294', 'Major': 'Safety Management', 'Degree_Type': 'Bachelors', 'Early_Career_Pay': '$67,500', 'Mid_Career_Pay': '$104,000', 'High_Meaning': '67%'}, '296': {'Rank': '296', 'Major': 'Manufacturing Engineering Technology', 'Degree_Type': 'Bachelors', 'Early_Career_Pay': '$74,900', 'Mid_Career_Pay': '$103,500', 'High_Meaning': '50%'}, '297': {'Rank': '297', 'Major': 'Advertising', 'Degree_Type': 'Bachelors', 'Early_Career_Pay': '$53,500', 'Mid_Career_Pay': '$103,400', 'High_Meaning': '33%'}, '298': {'Rank': '298', 'Major': 'Insurance', 'Degree_Type': 'Bachelors', 'Early_Career_Pay': '$63,400', 'Mid_Career_Pay': '$103,300', 'High_Meaning': '51%'}, '300': {'Rank': '300', 'Major': 'Occupational Therapy (OT)', 'Degree_Type': 'Bachelors', 'Early_Career_Pay': '$60,700', 'Mid_Career_Pay': '$103,200', 'High_Meaning': '87%'}, '301': {'Rank': '301', 'Major': 'Applied Computer Science', 'Degree_Type': 'Bachelors', 'Early_Career_Pay': '$74,000', 'Mid_Career_Pay': '$103,000', 'High_Meaning': '42%'}, '302': {'Rank': '302', 'Major': 'Meteorology', 'Degree_Type': 'Bachelors', 'Early_Career_Pay': '$53,100', 'Mid_Career_Pay': '$102,800', 'High_Meaning': '55%'}, '304': {'Rank': '304', 'Major': 'Radiation Therapy', 'Degree_Type': 'Bachelors', 'Early_Career_Pay': '$76,100', 'Mid_Career_Pay': '$102,600', 'High_Meaning': '91%'}, '307': {'Rank': '307', 'Major': 'Transportation & Logistics Management', 'Degree_Type': 'Bachelors', 'Early_Career_Pay': '$65,800', 'Mid_Career_Pay': '$102,500', 'High_Meaning': '49%'}, '310': {'Rank': '310', 'Major': 'Applied Technology', 'Degree_Type': 'Bachelors', 'Early_Career_Pay': '$65,500', 'Mid_Career_Pay': '$102,300', 'High_Meaning': '49%'}, '311': {'Rank': '311', 'Major': 'Environmental Health', 'Degree_Type': 'Bachelors', 'Early_Career_Pay': '$56,900', 'Mid_Career_Pay': '$102,200', 'High_Meaning': '69%'}, '312': {'Rank': '312', 'Major': 'Design', 'Degree_Type': 'Bachelors', 'Early_Career_Pay': '$60,500', 'Mid_Career_Pay': '$102,000', 'High_Meaning': '39%'}, '313': {'Rank': '313', 'Major': 'Crop Science', 'Degree_Type': 'Bachelors', 'Early_Career_Pay': '$54,700', 'Mid_Career_Pay': '$101,800', 'High_Meaning': '56%'}, '315': {'Rank': '315', 'Major': 'Industrial Psychology', 'Degree_Type': 'Bachelors', 'Early_Career_Pay': '$56,400', 'Mid_Career_Pay': '$101,500', 'High_Meaning': '50%'}, '316': {'Rank': '316', 'Major': 'Neuroscience', 'Degree_Type': 'Bachelors', 'Early_Career_Pay': '$58,900', 'Mid_Career_Pay': '$101,300', 'High_Meaning': '60%'}, '319': {'Rank': '319', 'Major': 'Microbiology', 'Degree_Type': 'Bachelors', 'Early_Career_Pay': '$54,800', 'Mid_Career_Pay': '$101,200', 'High_Meaning': '69%'}, '323': {'Rank': '323', 'Major': 'Agronomy', 'Degree_Type': 'Bachelors', 'Early_Career_Pay': '$55,200', 'Mid_Career_Pay': '$101,000', 'High_Meaning': '65%'}, '325': {'Rank': '325', 'Major': 'Business Communication', 'Degree_Type': 'Bachelors', 'Early_Career_Pay': '$57,900', 'Mid_Career_Pay': '$100,600', 'High_Meaning': '47%'}, '328': {'Rank': '328', 'Major': 'Urban & Regional Planning', 'Degree_Type': 'Bachelors', 'Early_Career_Pay': '$59,600', 'Mid_Career_Pay': '$100,500', 'High_Meaning': '60%'}, '329': {'Rank': '329', 'Major': 'Police Science', 'Degree_Type': 'Bachelors', 'Early_Career_Pay': '$61,500', 'Mid_Career_Pay': '$100,100', 'High_Meaning': '-'}, '331': {'Rank': '331', 'Major': 'Math & Science', 'Degree_Type': 'Bachelors', 'Early_Career_Pay': '$63,900', 'Mid_Career_Pay': '$100,000', 'High_Meaning': '64%'}, '332': {'Rank': '332', 'Major': 'Corporate Communications', 'Degree_Type': 'Bachelors', 'Early_Career_Pay': '$54,700', 'Mid_Career_Pay': '$99,900', 'High_Meaning': '45%'}, '333': {'Rank': '333', 'Major': 'Political Science/Public Law', 'Degree_Type': 'Bachelors', 'Early_Career_Pay': '$59,200', 'Mid_Career_Pay': '$99,800', 'High_Meaning': '69%'}, '334': {'Rank': '334', 'Major': 'Organizational Psychology', 'Degree_Type': 'Bachelors', 'Early_Career_Pay': '$56,400', 'Mid_Career_Pay': '$99,700', 'High_Meaning': '51%'}, '337': {'Rank': '337', 'Major': 'Entomology', 'Degree_Type': 'Bachelors', 'Early_Career_Pay': '$49,900', 'Mid_Career_Pay': '$99,200', 'High_Meaning': '-'}, '339': {'Rank': '339', 'Major': 'Product Design Engineering', 'Degree_Type': 'Bachelors', 'Early_Career_Pay': '$73,500', 'Mid_Career_Pay': '$99,100', 'High_Meaning': '41%'}, '340': {'Rank': '340', 'Major': 'Personal Financial Planning', 'Degree_Type': 'Bachelors', 'Early_Career_Pay': '$60,400', 'Mid_Career_Pay': '$99,000', 'High_Meaning': '60%'}, '341': {'Rank': '341', 'Major': 'Pre-law', 'Degree_Type': 'Bachelors', 'Early_Career_Pay': '$52,900', 'Mid_Career_Pay': '$98,900', 'High_Meaning': '50%'}, '343': {'Rank': '343', 'Major': 'Textile Technology', 'Degree_Type': 'Bachelors', 'Early_Career_Pay': '$60,400', 'Mid_Career_Pay': '$98,800', 'High_Meaning': '37%'}, '344': {'Rank': '344', 'Major': 'Technology', 'Degree_Type': 'Bachelors', 'Early_Career_Pay': '$63,200', 'Mid_Career_Pay': '$98,700', 'High_Meaning': '-'}, '346': {'Rank': '346', 'Major': 'Environmental Science', 'Degree_Type': 'Bachelors', 'Early_Career_Pay': '$55,800', 'Mid_Career_Pay': '$98,600', 'High_Meaning': '61%'}, '347': {'Rank': '347', 'Major': 'International Studies', 'Degree_Type': 'Bachelors', 'Early_Career_Pay': '$56,200', 'Mid_Career_Pay': '$98,500', 'High_Meaning': '50%'}, '348': {'Rank': '348', 'Major': 'Cinema Studies', 'Degree_Type': 'Bachelors', 'Early_Career_Pay': '$53,200', 'Mid_Career_Pay': '$98,300', 'High_Meaning': '37%'}, '349': {'Rank': '349', 'Major': 'Professional & Technical Writing', 'Degree_Type': 'Bachelors', 'Early_Career_Pay': '$54,800', 'Mid_Career_Pay': '$98,200', 'High_Meaning': '47%'}, '350': {'Rank': '350', 'Major': 'Automotive Technology', 'Degree_Type': 'Bachelors', 'Early_Career_Pay': '$55,400', 'Mid_Career_Pay': '$97,800', 'High_Meaning': '52%'}, '351': {'Rank': '351', 'Major': 'Information Systems Security', 'Degree_Type': 'Bachelors', 'Early_Career_Pay': '$64,800', 'Mid_Career_Pay': '$97,700', 'High_Meaning': '47%'}, '354': {'Rank': '354', 'Major': 'Organizational Development', 'Degree_Type': 'Bachelors', 'Early_Career_Pay': '$60,800', 'Mid_Career_Pay': '$97,500', 'High_Meaning': '55%'}, '356': {'Rank': '356', 'Major': 'Toxicology', 'Degree_Type': 'Bachelors', 'Early_Career_Pay': '$53,900', 'Mid_Career_Pay': '$97,400', 'High_Meaning': '-'}, '360': {'Rank': '360', 'Major': 'Construction Engineering Technology', 'Degree_Type': 'Bachelors', 'Early_Career_Pay': '$63,800', 'Mid_Career_Pay': '$97,200', 'High_Meaning': '60%'}, '361': {'Rank': '361', 'Major': 'English Literature', 'Degree_Type': 'Bachelors', 'Early_Career_Pay': '$53,800', 'Mid_Career_Pay': '$97,100', 'High_Meaning': '46%'}, '363': {'Rank': '363', 'Major': 'Advertising & Promotion', 'Degree_Type': 'Bachelors', 'Early_Career_Pay': '$53,400', 'Mid_Career_Pay': '$97,000', 'High_Meaning': '46%'}, '364': {'Rank': '364', 'Major': 'Hydrology', 'Degree_Type': 'Bachelors', 'Early_Career_Pay': '$53,400', 'Mid_Career_Pay': '$96,900', 'High_Meaning': '-'}, '367': {'Rank': '367', 'Major': 'Technical Management', 'Degree_Type': 'Bachelors', 'Early_Career_Pay': '$72,300', 'Mid_Career_Pay': '$96,800', 'High_Meaning': '66%'}, '368': {'Rank': '368', 'Major': 'Electronics & Computer Technology', 'Degree_Type': 'Bachelors', 'Early_Career_Pay': '$60,500', 'Mid_Career_Pay': '$96,600', 'High_Meaning': '-'}, '369': {'Rank': '369', 'Major': 'Sociology & Organizational Studies', 'Degree_Type': 'Bachelors', 'Early_Career_Pay': '$61,400', 'Mid_Career_Pay': '$96,500', 'High_Meaning': '55%'}, '373': {'Rank': '373', 'Major': 'Business Administration', 'Degree_Type': 'Bachelors', 'Early_Career_Pay': '$60,200', 'Mid_Career_Pay': '$96,300', 'High_Meaning': '51%'}, '375': {'Rank': '375', 'Major': 'Land Surveying', 'Degree_Type': 'Bachelors', 'Early_Career_Pay': '$58,200', 'Mid_Career_Pay': '$96,200', 'High_Meaning': '56%'}, '377': {'Rank': '377', 'Major': 'Journalism & Mass Communication', 'Degree_Type': 'Bachelors', 'Early_Career_Pay': '$52,800', 'Mid_Career_Pay': '$96,100', 'High_Meaning': '44%'}, '378': {'Rank': '378', 'Major': 'Speech & Drama', 'Degree_Type': 'Bachelors', 'Early_Career_Pay': '$45,100', 'Mid_Career_Pay': '$95,900', 'High_Meaning': '-'}, '380': {'Rank': '380', 'Major': 'Digital Media', 'Degree_Type': 'Bachelors', 'Early_Career_Pay': '$52,000', 'Mid_Career_Pay': '$95,600', 'High_Meaning': '38%'}, '382': {'Rank': '382', 'Major': 'Linguistics', 'Degree_Type': 'Bachelors', 'Early_Career_Pay': '$58,600', 'Mid_Career_Pay': '$95,500', 'High_Meaning': '42%'}, '384': {'Rank': '384', 'Major': 'General Science', 'Degree_Type': 'Bachelors', 'Early_Career_Pay': '$56,300', 'Mid_Career_Pay': '$95,400', 'High_Meaning': '58%'}, '386': {'Rank': '386', 'Major': 'Pre-Medicine', 'Degree_Type': 'Bachelors', 'Early_Career_Pay': '$57,200', 'Mid_Career_Pay': '$95,300', 'High_Meaning': '69%'}, '387': {'Rank': '387', 'Major': 'Nursing Science', 'Degree_Type': 'Bachelors', 'Early_Career_Pay': '$75,600', 'Mid_Career_Pay': '$95,200', 'High_Meaning': '84%'}, '390': {'Rank': '390', 'Major': 'Integrated Marketing Communications', 'Degree_Type': 'Bachelors', 'Early_Career_Pay': '$53,500', 'Mid_Career_Pay': '$95,100', 'High_Meaning': '38%'}, '392': {'Rank': '392', 'Major': 'American History (United States)', 'Degree_Type': 'Bachelors', 'Early_Career_Pay': '$58,900', 'Mid_Career_Pay': '$94,900', 'High_Meaning': '49%'}, '393': {'Rank': '393', 'Major': 'Personnel Management', 'Degree_Type': 'Bachelors', 'Early_Career_Pay': '$57,900', 'Mid_Career_Pay': '$94,800', 'High_Meaning': '68%'}, '396': {'Rank': '396', 'Major': 'Natural Sciences', 'Degree_Type': 'Bachelors', 'Early_Career_Pay': '$49,500', 'Mid_Career_Pay': '$94,700', 'High_Meaning': '54%'}, '400': {'Rank': '400', 'Major': 'Writing', 'Degree_Type': 'Bachelors', 'Early_Career_Pay': '$49,900', 'Mid_Career_Pay': '$94,600', 'High_Meaning': '44%'}, '401': {'Rank': '401', 'Major': 'Computer Art', 'Degree_Type': 'Bachelors', 'Early_Career_Pay': '$44,600', 'Mid_Career_Pay': '$94,500', 'High_Meaning': '33%'}, '404': {'Rank': '404', 'Major': 'Journalism', 'Degree_Type': 'Bachelors', 'Early_Career_Pay': '$52,300', 'Mid_Career_Pay': '$94,100', 'High_Meaning': '44%'}, '406': {'Rank': '406', 'Major': 'Textile Design', 'Degree_Type': 'Bachelors', 'Early_Career_Pay': '$56,200', 'Mid_Career_Pay': '$94,000', 'High_Meaning': '36%'}, '409': {'Rank': '409', 'Major': 'Public Relations & Communication', 'Degree_Type': 'Bachelors', 'Early_Career_Pay': '$51,700', 'Mid_Career_Pay': '$93,900', 'High_Meaning': '48%'}, '412': {'Rank': '412', 'Major': 'Environmental & Natural Resource Economics', 'Degree_Type': 'Bachelors', 'Early_Career_Pay': '$58,600', 'Mid_Career_Pay': '$93,700', 'High_Meaning': '66%'}, '413': {'Rank': '413', 'Major': 'General & Strategic Management', 'Degree_Type': 'Bachelors', 'Early_Career_Pay': '$56,800', 'Mid_Career_Pay': '$93,600', 'High_Meaning': '52%'}, '416': {'Rank': '416', 'Major': 'History', 'Degree_Type': 'Bachelors', 'Early_Career_Pay': '$54,300', 'Mid_Career_Pay': '$93,400', 'High_Meaning': '47%'}, '418': {'Rank': '418', 'Major': 'Literature', 'Degree_Type': 'Bachelors', 'Early_Career_Pay': '$53,200', 'Mid_Career_Pay': '$93,300', 'High_Meaning': '45%'}, '419': {'Rank': '419', 'Major': 'Law', 'Degree_Type': 'Bachelors', 'Early_Career_Pay': '$59,900', 'Mid_Career_Pay': '$93,200', 'High_Meaning': '51%'}, '420': {'Rank': '420', 'Major': 'Physiology', 'Degree_Type': 'Bachelors', 'Early_Career_Pay': '$55,500', 'Mid_Career_Pay': '$93,100', 'High_Meaning': '66%'}, '421': {'Rank': '421', 'Major': 'Retail Management', 'Degree_Type': 'Bachelors', 'Early_Career_Pay': '$60,400', 'Mid_Career_Pay': '$93,000', 'High_Meaning': '39%'}, '424': {'Rank': '424', 'Major': 'Music Technology', 'Degree_Type': 'Bachelors', 'Early_Career_Pay': '$50,900', 'Mid_Career_Pay': '$92,900', 'High_Meaning': '38%'}, '428': {'Rank': '428', 'Major': 'Urban Studies', 'Degree_Type': 'Bachelors', 'Early_Career_Pay': '$57,700', 'Mid_Career_Pay': '$92,800', 'High_Meaning': '60%'}, '431': {'Rank': '431', 'Major': 'Media Studies', 'Degree_Type': 'Bachelors', 'Early_Career_Pay': '$57,000', 'Mid_Career_Pay': '$92,700', 'High_Meaning': '38%'}, '432': {'Rank': '432', 'Major': 'Philosophy & Religion', 'Degree_Type': 'Bachelors', 'Early_Career_Pay': '$51,300', 'Mid_Career_Pay': '$92,600', 'High_Meaning': '54%'}, '434': {'Rank': '434', 'Major': 'Environmental Geography', 'Degree_Type': 'Bachelors', 'Early_Career_Pay': '$55,900', 'Mid_Career_Pay': '$92,500', 'High_Meaning': '54%'}, '435': {'Rank': '435', 'Major': 'Web Design & Development', 'Degree_Type': 'Bachelors', 'Early_Career_Pay': '$60,100', 'Mid_Career_Pay': '$92,300', 'High_Meaning': '44%'}, '440': {'Rank': '440', 'Major': 'Geographic Information Systems (GIS)', 'Degree_Type': 'Bachelors', 'Early_Career_Pay': '$56,100', 'Mid_Career_Pay': '$92,200', 'High_Meaning': '53%'}, '443': {'Rank': '443', 'Major': 'Interactive Media', 'Degree_Type': 'Bachelors', 'Early_Career_Pay': '$61,300', 'Mid_Career_Pay': '$92,100', 'High_Meaning': '39%'}, '445': {'Rank': '445', 'Major': 'Retail Merchandising', 'Degree_Type': 'Bachelors', 'Early_Career_Pay': '$59,000', 'Mid_Career_Pay': '$91,900', 'High_Meaning': '36%'}, '446': {'Rank': '446', 'Major': 'Diagnostic Medical Sonography', 'Degree_Type': 'Bachelors', 'Early_Career_Pay': '$71,700', 'Mid_Career_Pay': '$91,800', 'High_Meaning': '86%'}, '447': {'Rank': '447', 'Major': 'Network Administration', 'Degree_Type': 'Bachelors', 'Early_Career_Pay': '$54,400', 'Mid_Career_Pay': '$91,600', 'High_Meaning': '54%'}, '449': {'Rank': '449', 'Major': 'Dental Hygiene', 'Degree_Type': 'Bachelors', 'Early_Career_Pay': '$81,200', 'Mid_Career_Pay': '$91,300', 'High_Meaning': '81%'}, '451': {'Rank': '451', 'Major': 'Workforce Education & Development', 'Degree_Type': 'Bachelors', 'Early_Career_Pay': '$67,100', 'Mid_Career_Pay': '$91,200', 'High_Meaning': '73%'}, '454': {'Rank': '454', 'Major': 'Health Policy & Administration', 'Degree_Type': 'Bachelors', 'Early_Career_Pay': '$57,300', 'Mid_Career_Pay': '$91,100', 'High_Meaning': '63%'}, '456': {'Rank': '456', 'Major': 'Quality Management', 'Degree_Type': 'Bachelors', 'Early_Career_Pay': '$66,000', 'Mid_Career_Pay': '$90,800', 'High_Meaning': '62%'}, '457': {'Rank': '457', 'Major': 'Speech Communication', 'Degree_Type': 'Bachelors', 'Early_Career_Pay': '$53,300', 'Mid_Career_Pay': '$90,700', 'High_Meaning': '56%'}, '459': {'Rank': '459', 'Major': 'Visual Effects & Motion Graphics', 'Degree_Type': 'Bachelors', 'Early_Career_Pay': '$54,100', 'Mid_Career_Pay': '$90,500', 'High_Meaning': '38%'}, '461': {'Rank': '461', 'Major': 'Foreign Languages', 'Degree_Type': 'Bachelors', 'Early_Career_Pay': '$55,600', 'Mid_Career_Pay': '$90,300', 'High_Meaning': '54%'}, '462': {'Rank': '462', 'Major': 'Landscape Architecture', 'Degree_Type': 'Bachelors', 'Early_Career_Pay': '$58,700', 'Mid_Career_Pay': '$90,200', 'High_Meaning': '65%'}, '463': {'Rank': '463', 'Major': 'Global Studies', 'Degree_Type': 'Bachelors', 'Early_Career_Pay': '$58,100', 'Mid_Career_Pay': '$90,100', 'High_Meaning': '47%'}, '464': {'Rank': '464', 'Major': 'Spanish Language Teacher Education', 'Degree_Type': 'Bachelors', 'Early_Career_Pay': '$55,100', 'Mid_Career_Pay': '$89,900', 'High_Meaning': '-'}, '466': {'Rank': '466', 'Major': 'Technical & Scientific Communication', 'Degree_Type': 'Bachelors', 'Early_Career_Pay': '$57,000', 'Mid_Career_Pay': '$89,800', 'High_Meaning': '35%'}, '467': {'Rank': '467', 'Major': 'Broadcast & Cinematic Arts', 'Degree_Type': 'Bachelors', 'Early_Career_Pay': '$48,000', 'Mid_Career_Pay': '$89,700', 'High_Meaning': '41%'}, '468': {'Rank': '468', 'Major': 'Geography', 'Degree_Type': 'Bachelors', 'Early_Career_Pay': '$56,200', 'Mid_Career_Pay': '$89,600', 'High_Meaning': '52%'}, '470': {'Rank': '470', 'Major': 'Forestry', 'Degree_Type': 'Bachelors', 'Early_Career_Pay': '$52,800', 'Mid_Career_Pay': '$89,500', 'High_Meaning': '68%'}, '474': {'Rank': '474', 'Major': 'Nursing Education', 'Degree_Type': 'Bachelors', 'Early_Career_Pay': '$76,300', 'Mid_Career_Pay': '$89,300', 'High_Meaning': '-'}, '476': {'Rank': '476', 'Major': 'English Language', 'Degree_Type': 'Bachelors', 'Early_Career_Pay': '$50,900', 'Mid_Career_Pay': '$89,100', 'High_Meaning': '47%'}, '477': {'Rank': '477', 'Major': 'Geosciences', 'Degree_Type': 'Bachelors', 'Early_Career_Pay': '$55,100', 'Mid_Career_Pay': '$89,000', 'High_Meaning': '62%'}, '480': {'Rank': '480', 'Major': 'Digital Arts', 'Degree_Type': 'Bachelors', 'Early_Career_Pay': '$50,800', 'Mid_Career_Pay': '$88,900', 'High_Meaning': '36%'}, '482': {'Rank': '482', 'Major': 'Leadership', 'Degree_Type': 'Bachelors', 'Early_Career_Pay': '$53,700', 'Mid_Career_Pay': '$88,700', 'High_Meaning': '55%'}, '483': {'Rank': '483', 'Major': 'Radio/Television & Film Production', 'Degree_Type': 'Bachelors', 'Early_Career_Pay': '$51,200', 'Mid_Career_Pay': '$88,600', 'High_Meaning': '40%'}, '488': {'Rank': '488', 'Major': 'English Language & Literature', 'Degree_Type': 'Bachelors', 'Early_Career_Pay': '$52,200', 'Mid_Career_Pay': '$88,500', 'High_Meaning': '44%'}, '490': {'Rank': '490', 'Major': 'Security Management', 'Degree_Type': 'Bachelors', 'Early_Career_Pay': '$53,900', 'Mid_Career_Pay': '$88,400', 'High_Meaning': '-'}, '492': {'Rank': '492', 'Major': 'Public Administration', 'Degree_Type': 'Bachelors', 'Early_Career_Pay': '$53,000', 'Mid_Career_Pay': '$88,300', 'High_Meaning': '57%'}, '494': {'Rank': '494', 'Major': 'Management (MGT)', 'Degree_Type': 'Bachelors', 'Early_Career_Pay': '$52,300', 'Mid_Career_Pay': '$88,200', 'High_Meaning': '-'}, '496': {'Rank': '496', 'Major': 'Merchandising Management', 'Degree_Type': 'Bachelors', 'Early_Career_Pay': '$53,500', 'Mid_Career_Pay': '$88,100', 'High_Meaning': '48%'}, '497': {'Rank': '497', 'Major': 'Sports Management', 'Degree_Type': 'Bachelors', 'Early_Career_Pay': '$51,200', 'Mid_Career_Pay': '$88,000', 'High_Meaning': '43%'}, '500': {'Rank': '500', 'Major': 'Electronic Media', 'Degree_Type': 'Bachelors', 'Early_Career_Pay': '$50,700', 'Mid_Career_Pay': '$87,900', 'High_Meaning': '37%'}, '503': {'Rank': '503', 'Major': 'Film Production', 'Degree_Type': 'Bachelors', 'Early_Career_Pay': '$50,500', 'Mid_Career_Pay': '$87,800', 'High_Meaning': '37%'}, '505': {'Rank': '505', 'Major': 'Marine Science', 'Degree_Type': 'Bachelors', 'Early_Career_Pay': '$51,800', 'Mid_Career_Pay': '$87,600', 'High_Meaning': '61%'}, '506': {'Rank': '506', 'Major': 'Technical Writing', 'Degree_Type': 'Bachelors', 'Early_Career_Pay': '$63,300', 'Mid_Career_Pay': '$87,500', 'High_Meaning': '37%'}, '510': {'Rank': '510', 'Major': 'Travel Industry Management', 'Degree_Type': 'Bachelors', 'Early_Career_Pay': '$58,700', 'Mid_Career_Pay': '$87,400', 'High_Meaning': '-'}, '512': {'Rank': '512', 'Major': 'Nuclear Medicine Technology', 'Degree_Type': 'Bachelors', 'Early_Career_Pay': '$68,800', 'Mid_Career_Pay': '$87,200', 'High_Meaning': '81%'}, '515': {'Rank': '515', 'Major': 'Marketing & Advertising', 'Degree_Type': 'Bachelors', 'Early_Career_Pay': '$55,400', 'Mid_Career_Pay': '$87,100', 'High_Meaning': '45%'}, '516': {'Rank': '516', 'Major': 'Musicology', 'Degree_Type': 'Bachelors', 'Early_Career_Pay': '$48,100', 'Mid_Career_Pay': '$87,000', 'High_Meaning': '-'}, '517': {'Rank': '517', 'Major': 'Broadcast Journalism', 'Degree_Type': 'Bachelors', 'Early_Career_Pay': '$49,800', 'Mid_Career_Pay': '$86,800', 'High_Meaning': '52%'}, '518': {'Rank': '518', 'Major': 'Animation', 'Degree_Type': 'Bachelors', 'Early_Career_Pay': '$50,900', 'Mid_Career_Pay': '$86,700', 'High_Meaning': '35%'}, '519': {'Rank': '519', 'Major': 'Organizational Leadership & Supervision', 'Degree_Type': 'Bachelors', 'Early_Career_Pay': '$54,600', 'Mid_Career_Pay': '$86,600', 'High_Meaning': '53%'}, '522': {'Rank': '522', 'Major': 'Multimedia', 'Degree_Type': 'Bachelors', 'Early_Career_Pay': '$50,400', 'Mid_Career_Pay': '$86,500', 'High_Meaning': '45%'}, '523': {'Rank': '523', 'Major': 'Acting', 'Degree_Type': 'Bachelors', 'Early_Career_Pay': '$50,400', 'Mid_Career_Pay': '$86,400', 'High_Meaning': '48%'}, '527': {'Rank': '527', 'Major': 'Liberal Arts', 'Degree_Type': 'Bachelors', 'Early_Career_Pay': '$51,400', 'Mid_Career_Pay': '$86,300', 'High_Meaning': '52%'}, '528': {'Rank': '528', 'Major': 'Organizational Management', 'Degree_Type': 'Bachelors', 'Early_Career_Pay': '$55,500', 'Mid_Career_Pay': '$86,200', 'High_Meaning': '60%'}, '531': {'Rank': '531', 'Major': 'Zoology', 'Degree_Type': 'Bachelors', 'Early_Career_Pay': '$46,800', 'Mid_Career_Pay': '$86,100', 'High_Meaning': '66%'}, '532': {'Rank': '532', 'Major': 'Creative Writing', 'Degree_Type': 'Bachelors', 'Early_Career_Pay': '$51,200', 'Mid_Career_Pay': '$85,900', 'High_Meaning': '41%'}, '533': {'Rank': '533', 'Major': 'Geomatics', 'Degree_Type': 'Bachelors', 'Early_Career_Pay': '$57,800', 'Mid_Career_Pay': '$85,800', 'High_Meaning': '67%'}, '534': {'Rank': '534', 'Major': 'Law Enforcement', 'Degree_Type': 'Bachelors', 'Early_Career_Pay': '$52,800', 'Mid_Career_Pay': '$85,700', 'High_Meaning': '62%'}, '535': {'Rank': '535', 'Major': 'Fashion Marketing & Management', 'Degree_Type': 'Bachelors', 'Early_Career_Pay': '$54,400', 'Mid_Career_Pay': '$85,600', 'High_Meaning': '27%'}, '538': {'Rank': '538', 'Major': 'Management & Leadership', 'Degree_Type': 'Bachelors', 'Early_Career_Pay': '$59,500', 'Mid_Career_Pay': '$85,400', 'High_Meaning': '56%'}, '540': {'Rank': '540', 'Major': 'Human Resources (HR)', 'Degree_Type': 'Bachelors', 'Early_Career_Pay': '$53,800', 'Mid_Career_Pay': '$85,300', 'High_Meaning': '55%'}, '541': {'Rank': '541', 'Major': 'Animal Science & Management', 'Degree_Type': 'Bachelors', 'Early_Career_Pay': '$51,500', 'Mid_Career_Pay': '$85,200', 'High_Meaning': '61%'}, '542': {'Rank': '542', 'Major': 'Adult Education & Training', 'Degree_Type': 'Bachelors', 'Early_Career_Pay': '$55,200', 'Mid_Career_Pay': '$85,100', 'High_Meaning': '78%'}, '543': {'Rank': '543', 'Major': 'Health & Fitness', 'Degree_Type': 'Bachelors', 'Early_Career_Pay': '$44,100', 'Mid_Career_Pay': '$84,900', 'High_Meaning': '71%'}, '545': {'Rank': '545', 'Major': 'Radiology', 'Degree_Type': 'Bachelors', 'Early_Career_Pay': '$62,300', 'Mid_Career_Pay': '$84,800', 'High_Meaning': '81%'}, '550': {'Rank': '550', 'Major': 'Training and Development', 'Degree_Type': 'Bachelors', 'Early_Career_Pay': '$59,600', 'Mid_Career_Pay': '$84,700', 'High_Meaning': '-'}, '554': {'Rank': '554', 'Major': 'Human Relations', 'Degree_Type': 'Bachelors', 'Early_Career_Pay': '$51,100', 'Mid_Career_Pay': '$84,400', 'High_Meaning': '63%'}, '556': {'Rank': '556', 'Major': 'Natural Resources', 'Degree_Type': 'Bachelors', 'Early_Career_Pay': '$54,200', 'Mid_Career_Pay': '$84,300', 'High_Meaning': '58%'}, '557': {'Rank': '557', 'Major': 'Hotel & Restaurant Management', 'Degree_Type': 'Bachelors', 'Early_Career_Pay': '$54,200', 'Mid_Career_Pay': '$84,200', 'High_Meaning': '49%'}, '559': {'Rank': '559', 'Major': 'Mass Media', 'Degree_Type': 'Bachelors', 'Early_Career_Pay': '$45,800', 'Mid_Career_Pay': '$83,800', 'High_Meaning': '45%'}, '561': {'Rank': '561', 'Major': 'Radiologic Technology', 'Degree_Type': 'Bachelors', 'Early_Career_Pay': '$62,000', 'Mid_Career_Pay': '$83,700', 'High_Meaning': '81%'}, '563': {'Rank': '563', 'Major': 'Romance Languages', 'Degree_Type': 'Bachelors', 'Early_Career_Pay': '$57,400', 'Mid_Career_Pay': '$83,600', 'High_Meaning': '55%'}, '565': {'Rank': '565', 'Major': 'Environmental Health Science', 'Degree_Type': 'Bachelors', 'Early_Career_Pay': '$61,500', 'Mid_Career_Pay': '$83,500', 'High_Meaning': '-'}, '566': {'Rank': '566', 'Major': 'Psychology', 'Degree_Type': 'Bachelors', 'Early_Career_Pay': '$51,000', 'Mid_Career_Pay': '$83,400', 'High_Meaning': '56%'}, '568': {'Rank': '568', 'Major': 'Labor Studies', 'Degree_Type': 'Bachelors', 'Early_Career_Pay': '$53,700', 'Mid_Career_Pay': '$83,200', 'High_Meaning': '51%'}, '570': {'Rank': '570', 'Major': 'Visual Communications', 'Degree_Type': 'Bachelors', 'Early_Career_Pay': '$51,200', 'Mid_Career_Pay': '$83,000', 'High_Meaning': '34%'}, '572': {'Rank': '572', 'Major': 'Audio Engineering', 'Degree_Type': 'Bachelors', 'Early_Career_Pay': '$53,800', 'Mid_Career_Pay': '$82,800', 'High_Meaning': '40%'}, '573': {'Rank': '573', 'Major': 'Health', 'Degree_Type': 'Bachelors', 'Early_Career_Pay': '$49,600', 'Mid_Career_Pay': '$82,700', 'High_Meaning': '70%'}, '575': {'Rank': '575', 'Major': 'Painting & Printmaking', 'Degree_Type': 'Bachelors', 'Early_Career_Pay': '$39,300', 'Mid_Career_Pay': '$82,600', 'High_Meaning': '46%'}, '578': {'Rank': '578', 'Major': 'Multimedia & Web Design', 'Degree_Type': 'Bachelors', 'Early_Career_Pay': '$55,700', 'Mid_Career_Pay': '$82,500', 'High_Meaning': '31%'}, '579': {'Rank': '579', 'Major': 'Psychology & Social Behavior', 'Degree_Type': 'Bachelors', 'Early_Career_Pay': '$51,100', 'Mid_Career_Pay': '$82,400', 'High_Meaning': '58%'}, '582': {'Rank': '582', 'Major': 'Web Design', 'Degree_Type': 'Bachelors', 'Early_Career_Pay': '$53,900', 'Mid_Career_Pay': '$82,300', 'High_Meaning': '29%'}, '586': {'Rank': '586', 'Major': 'Life Sciences', 'Degree_Type': 'Bachelors', 'Early_Career_Pay': '$59,700', 'Mid_Career_Pay': '$82,200', 'High_Meaning': '60%'}, '588': {'Rank': '588', 'Major': 'Music', 'Degree_Type': 'Bachelors', 'Early_Career_Pay': '$51,000', 'Mid_Career_Pay': '$82,100', 'High_Meaning': '55%'}, '590': {'Rank': '590', 'Major': 'SocialStudies', 'Degree_Type': 'Bachelors', 'Early_Career_Pay': '$52,700', 'Mid_Career_Pay': '$82,000', 'High_Meaning': '56%'}, '593': {'Rank': '593', 'Major': 'Psychiatry', 'Degree_Type': 'Bachelors', 'Early_Career_Pay': '$64,300', 'Mid_Career_Pay': '$81,900', 'High_Meaning': '50%'}, '595': {'Rank': '595', 'Major': 'Sociology', 'Degree_Type': 'Bachelors', 'Early_Career_Pay': '$52,800', 'Mid_Career_Pay': '$81,800', 'High_Meaning': '55%'}, '596': {'Rank': '596', 'Major': 'Health Care Administration', 'Degree_Type': 'Bachelors', 'Early_Career_Pay': '$52,100', 'Mid_Career_Pay': '$81,600', 'High_Meaning': '68%'}, '597': {'Rank': '597', 'Major': 'Respiratory Care', 'Degree_Type': 'Bachelors', 'Early_Career_Pay': '$61,800', 'Mid_Career_Pay': '$81,500', 'High_Meaning': '85%'}, '599': {'Rank': '599', 'Major': 'Art & Design', 'Degree_Type': 'Bachelors', 'Early_Career_Pay': '$51,100', 'Mid_Career_Pay': '$81,300', 'High_Meaning': '39%'}, '601': {'Rank': '601', 'Major': 'Child Psychology', 'Degree_Type': 'Bachelors', 'Early_Career_Pay': '$48,400', 'Mid_Career_Pay': '$81,100', 'High_Meaning': '62%'}, '602': {'Rank': '602', 'Major': 'Theater', 'Degree_Type': 'Bachelors', 'Early_Career_Pay': '$51,200', 'Mid_Career_Pay': '$81,000', 'High_Meaning': '49%'}, '607': {'Rank': '607', 'Major': 'Kinesiology', 'Degree_Type': 'Bachelors', 'Early_Career_Pay': '$51,100', 'Mid_Career_Pay': '$80,900', 'High_Meaning': '66%'}, '608': {'Rank': '608', 'Major': 'Secondary Education', 'Degree_Type': 'Bachelors', 'Early_Career_Pay': '$50,700', 'Mid_Career_Pay': '$80,800', 'High_Meaning': '58%'}, '611': {'Rank': '611', 'Major': 'Multidisciplinary Studies', 'Degree_Type': 'Bachelors', 'Early_Career_Pay': '$49,600', 'Mid_Career_Pay': '$80,700', 'High_Meaning': '52%'}, '612': {'Rank': '612', 'Major': 'Communication Arts', 'Degree_Type': 'Bachelors', 'Early_Career_Pay': '$47,800', 'Mid_Career_Pay': '$80,500', 'High_Meaning': '40%'}, '614': {'Rank': '614', 'Major': 'Sustainability', 'Degree_Type': 'Bachelors', 'Early_Career_Pay': '$54,900', 'Mid_Career_Pay': '$80,400', 'High_Meaning': '58%'}, '617': {'Rank': '617', 'Major': 'Radiography', 'Degree_Type': 'Bachelors', 'Early_Career_Pay': '$62,400', 'Mid_Career_Pay': '$80,300', 'High_Meaning': '83%'}, '619': {'Rank': '619', 'Major': 'Respiratory Therapy', 'Degree_Type': 'Bachelors', 'Early_Career_Pay': '$61,800', 'Mid_Career_Pay': '$80,200', 'High_Meaning': '83%'}, '621': {'Rank': '621', 'Major': 'Applied Behavior Analysis', 'Degree_Type': 'Bachelors', 'Early_Career_Pay': '$43,400', 'Mid_Career_Pay': '$80,000', 'High_Meaning': '88%'}, '622': {'Rank': '622', 'Major': 'Technology Teacher Education', 'Degree_Type': 'Bachelors', 'Early_Career_Pay': '$54,000', 'Mid_Career_Pay': '$79,800', 'High_Meaning': '-'}, '623': {'Rank': '623', 'Major': 'Professional Studies', 'Degree_Type': 'Bachelors', 'Early_Career_Pay': '$47,500', 'Mid_Career_Pay': '$79,300', 'High_Meaning': '67%'}, '624': {'Rank': '624', 'Major': 'Communications Technology', 'Degree_Type': 'Bachelors', 'Early_Career_Pay': '$52,500', 'Mid_Career_Pay': '$79,200', 'High_Meaning': '32%'}, '625': {'Rank': '625', 'Major': 'Commercial Photography', 'Degree_Type': 'Bachelors', 'Early_Career_Pay': '$48,900', 'Mid_Career_Pay': '$79,000', 'High_Meaning': '28%'}, '628': {'Rank': '628', 'Major': 'Radio & Television', 'Degree_Type': 'Bachelors', 'Early_Career_Pay': '$49,000', 'Mid_Career_Pay': '$78,900', 'High_Meaning': '40%'}, '630': {'Rank': '630', 'Major': 'Nutrition', 'Degree_Type': 'Bachelors', 'Early_Career_Pay': '$52,800', 'Mid_Career_Pay': '$78,600', 'High_Meaning': '65%'}, '631': {'Rank': '631', 'Major': 'Plant Sciences', 'Degree_Type': 'Bachelors', 'Early_Career_Pay': '$55,500', 'Mid_Career_Pay': '$78,400', 'High_Meaning': '57%'}, '632': {'Rank': '632', 'Major': 'Graphic Design', 'Degree_Type': 'Bachelors', 'Early_Career_Pay': '$51,300', 'Mid_Career_Pay': '$78,300', 'High_Meaning': '38%'}, '633': {'Rank': '633', 'Major': 'Nutrition & Dietetics', 'Degree_Type': 'Bachelors', 'Early_Career_Pay': '$57,200', 'Mid_Career_Pay': '$78,200', 'High_Meaning': '71%'}, '635': {'Rank': '635', 'Major': 'Turfgrass Management', 'Degree_Type': 'Bachelors', 'Early_Career_Pay': '$53,300', 'Mid_Career_Pay': '$78,100', 'High_Meaning': '38%'}, '636': {'Rank': '636', 'Major': 'Interdisciplinary Studies (IS)', 'Degree_Type': 'Bachelors', 'Early_Career_Pay': '$50,700', 'Mid_Career_Pay': '$78,000', 'High_Meaning': '57%'}, '638': {'Rank': '638', 'Major': 'Fashion Design & Marketing', 'Degree_Type': 'Bachelors', 'Early_Career_Pay': '$55,900', 'Mid_Career_Pay': '$77,900', 'High_Meaning': '50%'}, '639': {'Rank': '639', 'Major': 'Religion', 'Degree_Type': 'Bachelors', 'Early_Career_Pay': '$50,500', 'Mid_Career_Pay': '$77,800', 'High_Meaning': '56%'}, '642': {'Rank': '642', 'Major': 'Medical Technology', 'Degree_Type': 'Bachelors', 'Early_Career_Pay': '$61,000', 'Mid_Career_Pay': '$77,700', 'High_Meaning': '82%'}, '643': {'Rank': '643', 'Major': 'Fine Arts', 'Degree_Type': 'Bachelors', 'Early_Career_Pay': '$49,000', 'Mid_Career_Pay': '$77,600', 'High_Meaning': '45%'}, '646': {'Rank': '646', 'Major': 'Forensic Science', 'Degree_Type': 'Bachelors', 'Early_Career_Pay': '$51,300', 'Mid_Career_Pay': '$77,400', 'High_Meaning': '63%'}, '648': {'Rank': '648', 'Major': 'Public Health (PH)', 'Degree_Type': 'Bachelors', 'Early_Career_Pay': '$52,300', 'Mid_Career_Pay': '$77,300', 'High_Meaning': '70%'}, '650': {'Rank': '650', 'Major': 'Speech-Language Pathology', 'Degree_Type': 'Bachelors', 'Early_Career_Pay': '$49,600', 'Mid_Career_Pay': '$77,100', 'High_Meaning': '68%'}, '651': {'Rank': '651', 'Major': \"Women's Studies\", 'Degree_Type': 'Bachelors', 'Early_Career_Pay': '$51,200', 'Mid_Career_Pay': '$77,000', 'High_Meaning': '60%'}, '653': {'Rank': '653', 'Major': 'Modern Language Spanish', 'Degree_Type': 'Bachelors', 'Early_Career_Pay': '$51,100', 'Mid_Career_Pay': '$76,900', 'High_Meaning': '63%'}, '655': {'Rank': '655', 'Major': 'Physical Geography', 'Degree_Type': 'Bachelors', 'Early_Career_Pay': '$55,000', 'Mid_Career_Pay': '$76,800', 'High_Meaning': '58%'}, '657': {'Rank': '657', 'Major': 'Pastoral Studies', 'Degree_Type': 'Bachelors', 'Early_Career_Pay': '$58,900', 'Mid_Career_Pay': '$76,700', 'High_Meaning': '-'}, '659': {'Rank': '659', 'Major': 'Dramatic Art', 'Degree_Type': 'Bachelors', 'Early_Career_Pay': '$47,100', 'Mid_Career_Pay': '$76,600', 'High_Meaning': '-'}, '660': {'Rank': '660', 'Major': 'Music Industry', 'Degree_Type': 'Bachelors', 'Early_Career_Pay': '$52,200', 'Mid_Career_Pay': '$76,400', 'High_Meaning': '38%'}, '661': {'Rank': '661', 'Major': 'Performing Arts', 'Degree_Type': 'Bachelors', 'Early_Career_Pay': '$51,300', 'Mid_Career_Pay': '$76,300', 'High_Meaning': '56%'}, '662': {'Rank': '662', 'Major': 'African American & African Studies', 'Degree_Type': 'Bachelors', 'Early_Career_Pay': '$54,300', 'Mid_Career_Pay': '$76,100', 'High_Meaning': '61%'}, '663': {'Rank': '663', 'Major': 'Ornamental Horticulture', 'Degree_Type': 'Bachelors', 'Early_Career_Pay': '$51,600', 'Mid_Career_Pay': '$76,000', 'High_Meaning': '67%'}, '665': {'Rank': '665', 'Major': 'Hospitality & Tourism', 'Degree_Type': 'Bachelors', 'Early_Career_Pay': '$51,400', 'Mid_Career_Pay': '$75,900', 'High_Meaning': '40%'}, '666': {'Rank': '666', 'Major': 'Education', 'Degree_Type': 'Bachelors', 'Early_Career_Pay': '$50,600', 'Mid_Career_Pay': '$75,800', 'High_Meaning': '65%'}, '667': {'Rank': '667', 'Major': 'Foods & Nutrition', 'Degree_Type': 'Bachelors', 'Early_Career_Pay': '$52,800', 'Mid_Career_Pay': '$75,300', 'High_Meaning': '68%'}, '668': {'Rank': '668', 'Major': 'Fashion & Retail Management', 'Degree_Type': 'Bachelors', 'Early_Career_Pay': '$55,800', 'Mid_Career_Pay': '$75,000', 'High_Meaning': '30%'}, '669': {'Rank': '669', 'Major': 'Small Business Management', 'Degree_Type': 'Bachelors', 'Early_Career_Pay': '$52,900', 'Mid_Career_Pay': '$74,900', 'High_Meaning': '36%'}, '671': {'Rank': '671', 'Major': 'Clinical Nutrition', 'Degree_Type': 'Bachelors', 'Early_Career_Pay': '$58,700', 'Mid_Career_Pay': '$74,800', 'High_Meaning': '-'}, '672': {'Rank': '672', 'Major': 'Painting', 'Degree_Type': 'Bachelors', 'Early_Career_Pay': '$47,400', 'Mid_Career_Pay': '$74,700', 'High_Meaning': '44%'}, '673': {'Rank': '673', 'Major': 'Speech Pathology & Audiology', 'Degree_Type': 'Bachelors', 'Early_Career_Pay': '$51,400', 'Mid_Career_Pay': '$74,600', 'High_Meaning': '75%'}, '674': {'Rank': '674', 'Major': 'Physical Education Teaching', 'Degree_Type': 'Bachelors', 'Early_Career_Pay': '$48,000', 'Mid_Career_Pay': '$74,400', 'High_Meaning': '68%'}, '676': {'Rank': '676', 'Major': 'Clinical Psychology', 'Degree_Type': 'Bachelors', 'Early_Career_Pay': '$47,500', 'Mid_Career_Pay': '$74,300', 'High_Meaning': '65%'}, '677': {'Rank': '677', 'Major': 'Instrumental Music Teacher Education', 'Degree_Type': 'Bachelors', 'Early_Career_Pay': '$48,000', 'Mid_Career_Pay': '$74,200', 'High_Meaning': '69%'}, '679': {'Rank': '679', 'Major': 'Technical Theatre', 'Degree_Type': 'Bachelors', 'Early_Career_Pay': '$46,400', 'Mid_Career_Pay': '$74,100', 'High_Meaning': '41%'}, '680': {'Rank': '680', 'Major': 'Social & Criminal Justice', 'Degree_Type': 'Bachelors', 'Early_Career_Pay': '$49,900', 'Mid_Career_Pay': '$73,900', 'High_Meaning': '55%'}, '682': {'Rank': '682', 'Major': 'Family & Consumer Science', 'Degree_Type': 'Bachelors', 'Early_Career_Pay': '$49,400', 'Mid_Career_Pay': '$73,800', 'High_Meaning': '61%'}, '684': {'Rank': '684', 'Major': 'Network Technology', 'Degree_Type': 'Bachelors', 'Early_Career_Pay': '$63,500', 'Mid_Career_Pay': '$73,700', 'High_Meaning': '60%'}, '685': {'Rank': '685', 'Major': 'Video Production', 'Degree_Type': 'Bachelors', 'Early_Career_Pay': '$48,600', 'Mid_Career_Pay': '$73,600', 'High_Meaning': '36%'}, '687': {'Rank': '687', 'Major': 'International Trade', 'Degree_Type': 'Bachelors', 'Early_Career_Pay': '$54,100', 'Mid_Career_Pay': '$73,400', 'High_Meaning': '44%'}, '688': {'Rank': '688', 'Major': 'Missions', 'Degree_Type': 'Bachelors', 'Early_Career_Pay': '$45,400', 'Mid_Career_Pay': '$73,200', 'High_Meaning': '-'}, '690': {'Rank': '690', 'Major': 'Health Services Administration', 'Degree_Type': 'Bachelors', 'Early_Career_Pay': '$49,000', 'Mid_Career_Pay': '$73,100', 'High_Meaning': '64%'}, '692': {'Rank': '692', 'Major': 'Justice Studies', 'Degree_Type': 'Bachelors', 'Early_Career_Pay': '$51,500', 'Mid_Career_Pay': '$73,000', 'High_Meaning': '49%'}, '693': {'Rank': '693', 'Major': 'Physical Therapist Assistant Studies', 'Degree_Type': 'Bachelors', 'Early_Career_Pay': '$55,100', 'Mid_Career_Pay': '$72,800', 'High_Meaning': '-'}, '695': {'Rank': '695', 'Major': 'Sports Administration', 'Degree_Type': 'Bachelors', 'Early_Career_Pay': '$49,700', 'Mid_Career_Pay': '$72,600', 'High_Meaning': '47%'}, '700': {'Rank': '700', 'Major': 'Graphic Arts', 'Degree_Type': 'Bachelors', 'Early_Career_Pay': '$48,000', 'Mid_Career_Pay': '$72,400', 'High_Meaning': '44%'}, '701': {'Rank': '701', 'Major': 'Secondary English Teacher Education', 'Degree_Type': 'Bachelors', 'Early_Career_Pay': '$49,800', 'Mid_Career_Pay': '$72,100', 'High_Meaning': '62%'}, '703': {'Rank': '703', 'Major': 'Interior Design & Merchandising', 'Degree_Type': 'Bachelors', 'Early_Career_Pay': '$50,200', 'Mid_Career_Pay': '$72,000', 'High_Meaning': '41%'}, '705': {'Rank': '705', 'Major': 'Health & Wellness', 'Degree_Type': 'Bachelors', 'Early_Career_Pay': '$45,500', 'Mid_Career_Pay': '$71,900', 'High_Meaning': '69%'}, '706': {'Rank': '706', 'Major': 'Restaurant & Food Service Management', 'Degree_Type': 'Bachelors', 'Early_Career_Pay': '$50,100', 'Mid_Career_Pay': '$71,800', 'High_Meaning': '40%'}, '707': {'Rank': '707', 'Major': 'Theology', 'Degree_Type': 'Bachelors', 'Early_Career_Pay': '$49,600', 'Mid_Career_Pay': '$71,700', 'High_Meaning': '68%'}, '711': {'Rank': '711', 'Major': 'Wildlife Management', 'Degree_Type': 'Bachelors', 'Early_Career_Pay': '$44,500', 'Mid_Career_Pay': '$71,600', 'High_Meaning': '46%'}, '712': {'Rank': '712', 'Major': 'Mortuary Science', 'Degree_Type': 'Bachelors', 'Early_Career_Pay': '$48,800', 'Mid_Career_Pay': '$71,500', 'High_Meaning': '78%'}, '715': {'Rank': '715', 'Major': 'Media Production', 'Degree_Type': 'Bachelors', 'Early_Career_Pay': '$49,000', 'Mid_Career_Pay': '$71,200', 'High_Meaning': '35%'}, '716': {'Rank': '716', 'Major': 'Health Services Management', 'Degree_Type': 'Bachelors', 'Early_Career_Pay': '$47,400', 'Mid_Career_Pay': '$71,000', 'High_Meaning': '87%'}, '718': {'Rank': '718', 'Major': 'Social Science Teacher Education', 'Degree_Type': 'Bachelors', 'Early_Career_Pay': '$51,000', 'Mid_Career_Pay': '$70,800', 'High_Meaning': '-'}, '720': {'Rank': '720', 'Major': 'Rehabilitation Counseling', 'Degree_Type': 'Bachelors', 'Early_Career_Pay': '$44,100', 'Mid_Career_Pay': '$70,600', 'High_Meaning': '-'}, '722': {'Rank': '722', 'Major': 'Radio Broadcasting', 'Degree_Type': 'Bachelors', 'Early_Career_Pay': '$51,000', 'Mid_Career_Pay': '$70,500', 'High_Meaning': '39%'}, '724': {'Rank': '724', 'Major': 'Community Health', 'Degree_Type': 'Bachelors', 'Early_Career_Pay': '$52,500', 'Mid_Career_Pay': '$70,300', 'High_Meaning': '73%'}, '725': {'Rank': '725', 'Major': 'Drawing', 'Degree_Type': 'Bachelors', 'Early_Career_Pay': '$43,400', 'Mid_Career_Pay': '$70,100', 'High_Meaning': '37%'}, '726': {'Rank': '726', 'Major': 'Dance', 'Degree_Type': 'Bachelors', 'Early_Career_Pay': '$50,600', 'Mid_Career_Pay': '$69,900', 'High_Meaning': '59%'}, '727': {'Rank': '727', 'Major': 'Music Teacher Education', 'Degree_Type': 'Bachelors', 'Early_Career_Pay': '$47,700', 'Mid_Career_Pay': '$69,800', 'High_Meaning': '58%'}, '728': {'Rank': '728', 'Major': 'Photojournalism', 'Degree_Type': 'Bachelors', 'Early_Career_Pay': '$46,800', 'Mid_Career_Pay': '$69,700', 'High_Meaning': '55%'}, '730': {'Rank': '730', 'Major': 'Family & Community Services', 'Degree_Type': 'Bachelors', 'Early_Career_Pay': '$48,400', 'Mid_Career_Pay': '$69,600', 'High_Meaning': '77%'}, '731': {'Rank': '731', 'Major': 'Drawing & Painting', 'Degree_Type': 'Bachelors', 'Early_Career_Pay': '$48,900', 'Mid_Career_Pay': '$69,500', 'High_Meaning': '45%'}, '733': {'Rank': '733', 'Major': 'Vocal Performance', 'Degree_Type': 'Bachelors', 'Early_Career_Pay': '$48,400', 'Mid_Career_Pay': '$69,400', 'High_Meaning': '62%'}, '735': {'Rank': '735', 'Major': 'Tourism Management', 'Degree_Type': 'Bachelors', 'Early_Career_Pay': '$48,900', 'Mid_Career_Pay': '$69,200', 'High_Meaning': '38%'}, '738': {'Rank': '738', 'Major': 'Wildlife Biology', 'Degree_Type': 'Bachelors', 'Early_Career_Pay': '$48,200', 'Mid_Career_Pay': '$68,900', 'High_Meaning': '58%'}, '739': {'Rank': '739', 'Major': 'Teaching English as a Second Language (ESL)', 'Degree_Type': 'Bachelors', 'Early_Career_Pay': '$48,800', 'Mid_Career_Pay': '$68,800', 'High_Meaning': '67%'}, '740': {'Rank': '740', 'Major': 'Parks & Recreation Management', 'Degree_Type': 'Bachelors', 'Early_Career_Pay': '$49,000', 'Mid_Career_Pay': '$68,700', 'High_Meaning': '59%'}, '741': {'Rank': '741', 'Major': 'Social Services', 'Degree_Type': 'Bachelors', 'Early_Career_Pay': '$44,800', 'Mid_Career_Pay': '$68,500', 'High_Meaning': '78%'}, '742': {'Rank': '742', 'Major': 'Elementary Special Education', 'Degree_Type': 'Bachelors', 'Early_Career_Pay': '$51,200', 'Mid_Career_Pay': '$68,300', 'High_Meaning': '81%'}, '743': {'Rank': '743', 'Major': 'Landscape Design', 'Degree_Type': 'Bachelors', 'Early_Career_Pay': '$57,100', 'Mid_Career_Pay': '$68,000', 'High_Meaning': '62%'}, '746': {'Rank': '746', 'Major': 'Speech & Hearing', 'Degree_Type': 'Bachelors', 'Early_Career_Pay': '$51,400', 'Mid_Career_Pay': '$67,600', 'High_Meaning': '72%'}, '748': {'Rank': '748', 'Major': 'Sculpture', 'Degree_Type': 'Bachelors', 'Early_Career_Pay': '$44,700', 'Mid_Career_Pay': '$67,200', 'High_Meaning': '48%'}, '749': {'Rank': '749', 'Major': 'Health Promotion', 'Degree_Type': 'Bachelors', 'Early_Career_Pay': '$47,700', 'Mid_Career_Pay': '$67,000', 'High_Meaning': '71%'}, '750': {'Rank': '750', 'Major': 'Athletic Training', 'Degree_Type': 'Bachelors', 'Early_Career_Pay': '$47,700', 'Mid_Career_Pay': '$66,900', 'High_Meaning': '75%'}, '751': {'Rank': '751', 'Major': 'Family Studies', 'Degree_Type': 'Bachelors', 'Early_Career_Pay': '$45,000', 'Mid_Career_Pay': '$66,800', 'High_Meaning': '60%'}, '752': {'Rank': '752', 'Major': 'Social Studies Teacher Education', 'Degree_Type': 'Bachelors', 'Early_Career_Pay': '$49,200', 'Mid_Career_Pay': '$66,700', 'High_Meaning': '59%'}, '754': {'Rank': '754', 'Major': 'Biblical Studies & Practical Ministries', 'Degree_Type': 'Bachelors', 'Early_Career_Pay': '$45,400', 'Mid_Career_Pay': '$66,600', 'High_Meaning': '-'}, '755': {'Rank': '755', 'Major': 'Communication Sciences & Disorders', 'Degree_Type': 'Bachelors', 'Early_Career_Pay': '$49,900', 'Mid_Career_Pay': '$66,500', 'High_Meaning': '75%'}, '756': {'Rank': '756', 'Major': 'Emergency Medical Services (EMS)', 'Degree_Type': 'Bachelors', 'Early_Career_Pay': '$47,300', 'Mid_Career_Pay': '$66,300', 'High_Meaning': '-'}, '757': {'Rank': '757', 'Major': 'Deaf Studies', 'Degree_Type': 'Bachelors', 'Early_Career_Pay': '$43,700', 'Mid_Career_Pay': '$66,100', 'High_Meaning': '-'}, '758': {'Rank': '758', 'Major': 'Community Health Education', 'Degree_Type': 'Bachelors', 'Early_Career_Pay': '$48,600', 'Mid_Career_Pay': '$65,800', 'High_Meaning': '70%'}, '759': {'Rank': '759', 'Major': 'Musical Theatre', 'Degree_Type': 'Bachelors', 'Early_Career_Pay': '$50,000', 'Mid_Career_Pay': '$65,500', 'High_Meaning': '46%'}, '760': {'Rank': '760', 'Major': 'Pastoral Ministry', 'Degree_Type': 'Bachelors', 'Early_Career_Pay': '$43,500', 'Mid_Career_Pay': '$65,200', 'High_Meaning': '76%'}, '761': {'Rank': '761', 'Major': 'Bible Studies & Theology', 'Degree_Type': 'Bachelors', 'Early_Career_Pay': '$44,800', 'Mid_Career_Pay': '$65,100', 'High_Meaning': '68%'}, '762': {'Rank': '762', 'Major': 'Biblical Studies', 'Degree_Type': 'Bachelors', 'Early_Career_Pay': '$47,000', 'Mid_Career_Pay': '$65,000', 'High_Meaning': '71%'}, '763': {'Rank': '763', 'Major': 'Christian Ministry', 'Degree_Type': 'Bachelors', 'Early_Career_Pay': '$43,000', 'Mid_Career_Pay': '$64,500', 'High_Meaning': '75%'}, '764': {'Rank': '764', 'Major': 'Human Development & Family Studies', 'Degree_Type': 'Bachelors', 'Early_Career_Pay': '$45,400', 'Mid_Career_Pay': '$64,400', 'High_Meaning': '63%'}, '765': {'Rank': '765', 'Major': 'Church Ministries', 'Degree_Type': 'Bachelors', 'Early_Career_Pay': '$43,600', 'Mid_Career_Pay': '$64,300', 'High_Meaning': '79%'}, '766': {'Rank': '766', 'Major': 'Community Development', 'Degree_Type': 'Bachelors', 'Early_Career_Pay': '$50,300', 'Mid_Career_Pay': '$63,600', 'High_Meaning': '69%'}, '767': {'Rank': '767', 'Major': 'Music Therapy', 'Degree_Type': 'Bachelors', 'Early_Career_Pay': '$48,500', 'Mid_Career_Pay': '$63,500', 'High_Meaning': '95%'}, '768': {'Rank': '768', 'Major': 'Voice & Opera', 'Degree_Type': 'Bachelors', 'Early_Career_Pay': '$38,700', 'Mid_Career_Pay': '$63,200', 'High_Meaning': '53%'}, '769': {'Rank': '769', 'Major': 'Legal Assistant Studies', 'Degree_Type': 'Bachelors', 'Early_Career_Pay': '$42,000', 'Mid_Career_Pay': '$63,000', 'High_Meaning': '39%'}, '770': {'Rank': '770', 'Major': 'Health and Human Services', 'Degree_Type': 'Bachelors', 'Early_Career_Pay': '$48,800', 'Mid_Career_Pay': '$62,900', 'High_Meaning': '64%'}, '771': {'Rank': '771', 'Major': 'Home Economics', 'Degree_Type': 'Bachelors', 'Early_Career_Pay': '$47,700', 'Mid_Career_Pay': '$62,800', 'High_Meaning': '69%'}, '772': {'Rank': '772', 'Major': 'Special Education', 'Degree_Type': 'Bachelors', 'Early_Career_Pay': '$46,400', 'Mid_Career_Pay': '$62,700', 'High_Meaning': '75%'}, '773': {'Rank': '773', 'Major': 'Conflict Resolution', 'Degree_Type': 'Bachelors', 'Early_Career_Pay': '$52,000', 'Mid_Career_Pay': '$62,100', 'High_Meaning': '50%'}, '774': {'Rank': '774', 'Major': 'Developmental Psychology', 'Degree_Type': 'Bachelors', 'Early_Career_Pay': '$42,900', 'Mid_Career_Pay': '$61,800', 'High_Meaning': '-'}}\n"
          ]
        }
      ],
      "source": [
        "from selenium import webdriver\n",
        "from selenium.webdriver.common.by import By\n",
        "from selenium.common.exceptions import StaleElementReferenceException, NoSuchElementException\n",
        "import time\n",
        "import requests\n",
        "from bs4 import BeautifulSoup\n",
        "\n",
        "url = \"https://www.payscale.com/college-salary-report/majors-that-pay-you-back/bachelors/page/1\"\n",
        "chrome_options = webdriver.ChromeOptions()\n",
        "chrome_options.add_experimental_option(\"detach\", True)\n",
        "driver = webdriver.Chrome(options=chrome_options)\n",
        "driver.get(url)\n",
        "\n",
        "\n",
        "updated_salaries = {\n",
        "\n",
        "}\n",
        "page_num = 1\n",
        "pages = 32\n",
        "try:\n",
        "    while pages != 0:\n",
        "        print(f\"Page: {page_num}\")\n",
        "        url = f\"https://www.payscale.com/college-salary-report/majors-that-pay-you-back/bachelors/page/{page_num}\"\n",
        "        html_doc = requests.get(url)\n",
        "        soup = BeautifulSoup(html_doc.text, 'html.parser')\n",
        "        elements = soup.css.select('.data-table__row')\n",
        "        pagnination = driver.find_element(By.CSS_SELECTOR, value='a[class=\"pagination__btn pagination__next-btn\"]')\n",
        "        for i in range(len(elements)):\n",
        "            updated_salaries[elements[i].text.strip().split(\"Rank:\")[1][:3].split(\"M\")[0]] = {\n",
        "                \"Rank\": elements[i].text.strip().split(\"Rank:\")[1][:3].split(\"M\")[0], \n",
        "                \"Major\": elements[i].text.strip().split(\"Major:\")[1].split(\"Degree Type:\")[0],\n",
        "                \"Degree_Type\": elements[i].text.strip().split(\"Degree Type:\")[1].split(\"Early Career Pay:\")[0],\n",
        "                \"Early_Career_Pay\": elements[i].text.strip().split(\"Early Career Pay:\")[1].split(\"Mid-Career Pay:\")[0],\n",
        "                \"Mid_Career_Pay\": elements[i].text.strip().split(\"Mid-Career Pay:\")[1].split(\"% High Meaning:\")[0],\n",
        "                \"High_Meaning\": elements[i].text.strip().split(\"High Meaning:\")[1]\n",
        "            }\n",
        "        pagnination.click()\n",
        "        time.sleep(1)\n",
        "        pages -= 1\n",
        "        page_num += 1\n",
        "except:\n",
        "    print(\"Done\")\n",
        "#print(updated_salaries)"
      ]
    },
    {
      "cell_type": "code",
      "execution_count": 65,
      "metadata": {},
      "outputs": [
        {
          "name": "stdout",
          "output_type": "stream",
          "text": [
            "<class 'pandas.core.frame.DataFrame'>\n",
            "Index: 475 entries, 1 to 774\n",
            "Data columns (total 6 columns):\n",
            " #   Column            Non-Null Count  Dtype \n",
            "---  ------            --------------  ----- \n",
            " 0   Rank              475 non-null    object\n",
            " 1   Major             475 non-null    object\n",
            " 2   Degree_Type       475 non-null    object\n",
            " 3   Early_Career_Pay  475 non-null    object\n",
            " 4   Mid_Career_Pay    475 non-null    object\n",
            " 5   High_Meaning      475 non-null    object\n",
            "dtypes: object(6)\n",
            "memory usage: 26.0+ KB\n"
          ]
        }
      ],
      "source": [
        "df = pd.DataFrame(updated_salaries).transpose()\n",
        "df.to_csv(\"salaries_by_college_major_latest.csv\")\n",
        "df.info()"
      ]
    }
  ],
  "metadata": {
    "colab": {
      "provenance": []
    },
    "kernelspec": {
      "display_name": "Python 3",
      "name": "python3"
    },
    "language_info": {
      "codemirror_mode": {
        "name": "ipython",
        "version": 3
      },
      "file_extension": ".py",
      "mimetype": "text/x-python",
      "name": "python",
      "nbconvert_exporter": "python",
      "pygments_lexer": "ipython3",
      "version": "3.11.4"
    }
  },
  "nbformat": 4,
  "nbformat_minor": 0
}
